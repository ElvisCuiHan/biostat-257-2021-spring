{
 "cells": [
  {
   "cell_type": "markdown",
   "metadata": {},
   "source": [
    "# Biostat 257 Homework 2\n",
    "\n",
    "**Due Apr 30 @ 11:59PM**\n",
    "\n",
    "**Elvis Cui** elviscuihan@g.ucla.edu\n",
    "\n",
    "*PhD Student at Department of Biostatistics, UCLA*"
   ]
  },
  {
   "cell_type": "code",
   "execution_count": 1,
   "metadata": {},
   "outputs": [
    {
     "name": "stdout",
     "output_type": "stream",
     "text": [
      "Julia Version 1.6.0\n",
      "Commit f9720dc2eb (2021-03-24 12:55 UTC)\n",
      "Platform Info:\n",
      "  OS: macOS (x86_64-apple-darwin19.6.0)\n",
      "  CPU: Apple M1\n",
      "  WORD_SIZE: 64\n",
      "  LIBM: libopenlibm\n",
      "  LLVM: libLLVM-11.0.1 (ORCJIT, westmere)\n"
     ]
    }
   ],
   "source": [
    "versioninfo()"
   ]
  },
  {
   "cell_type": "markdown",
   "metadata": {},
   "source": [
    "Consider a linear mixed effects model\n",
    "$$\n",
    "    \\mathbf{Y}_i = \\mathbf{X}_i \\boldsymbol{\\beta} + \\mathbf{Z}_i \\boldsymbol{\\gamma} + \\boldsymbol{\\epsilon}_i, \\quad i=1,\\ldots,n,\n",
    "$$\n",
    "where   \n",
    "- $\\mathbf{Y}_i \\in \\mathbb{R}^{n_i}$ is the response vector of $i$-th individual,  \n",
    "- $\\mathbf{X}_i \\in \\mathbb{R}^{n_i \\times p}$ is the fixed effect predictor matrix of $i$-th individual,  \n",
    "- $\\mathbf{Z}_i \\in \\mathbb{R}^{n_i \\times q}$ is the random effect predictor matrix of $i$-th individual,  \n",
    "- $\\boldsymbol{\\epsilon}_i \\in \\mathbb{R}^{n_i}$ are multivariate normal $N(\\mathbf{0}_{n_i},\\sigma^2 \\mathbf{I}_{n_i})$,  \n",
    "- $\\boldsymbol{\\beta} \\in \\mathbb{R}^p$ are fixed effects, and  \n",
    "- $\\boldsymbol{\\gamma} \\in \\mathbb{R}^q$ are random effects assumed to be $N(\\mathbf{0}_q, \\boldsymbol{\\Sigma}_{q \\times q}$) independent of $\\boldsymbol{\\epsilon}_i$."
   ]
  },
  {
   "cell_type": "markdown",
   "metadata": {},
   "source": [
    "## Q1 Formula (10 pts)\n",
    "\n",
    "Write down the log-likelihood of the $i$-th datum $(\\mathbf{y}_i, \\mathbf{X}_i, \\mathbf{Z}_i)$ given parameters $(\\boldsymbol{\\beta}, \\boldsymbol{\\Sigma}, \\sigma^2)$. \n",
    "\n",
    "**Hint:** For non-statisticians, feel free to ask for help in class or office hours. Point of this exercise is computing not statistics."
   ]
  },
  {
   "cell_type": "markdown",
   "metadata": {},
   "source": [
    "## Sol Q1\n",
    "\n",
    "Since $Y_i|\\gamma\\sim\\mathcal{N}(X_i\\beta+Z_i\\gamma,\\sigma^2I)$ and $\\gamma\\sim\\mathcal{N}(0,\\Sigma)$ and $\\gamma\\perp\\epsilon_i$, the marginal of $Y_i$ is again, a multivariate normal distribution (a linear combination of independent normal variables). And the mean and variance are\n",
    "\n",
    "\\begin{align}\n",
    "&\\mathbb{E}Y_i=X_i\\beta+Z_i\\mathbb{E}(\\gamma)+\\mathbb{E}(\\epsilon_i)=X_i\\beta\\\\\n",
    "&Var(Y_i)=Var(Z_i\\gamma)+Var(\\epsilon_i)=Z_i\\Sigma Z_i^T+\\sigma^2I\n",
    "\\end{align}\n",
    "\n",
    "Thus\n",
    "\n",
    "$$Y_i\\sim\\mathcal{N}(X_i\\beta,V_i)$$\n",
    "\n",
    "where $V_i=Z_i\\Sigma Z_i^T+\\sigma^2I$, and the log-likelihood function is\n",
    "\n",
    "\\begin{align}\n",
    "\\log L(\\boldsymbol{\\beta},\\boldsymbol{\\Sigma},\\sigma^2|\\mathbf{y}_i,\\mathbf{X}_i,\\mathbf{Z}_i)\n",
    "&=\\log\\left\\{\\frac{1}{\\left((2\\pi)^{n_i}|V_i|\\right)^{1/2}}\\exp\\left[-\\frac{1}{2}(y_i-X_i\\beta)^TV_i^{-1}(y_i-X_i\\beta)\\right]\\right\\}\\\\\n",
    "&=-\\frac{n_i}{2}\\log\\left(2\\pi\\right)-\\frac{1}{2}\\log|V_i|-\\frac{1}{2}(y_i-X_i\\beta)^TV_i^{-1}(y_i-X_i\\beta)\n",
    "\\end{align}\n",
    "\n",
    "and $V_i$ is defined as above."
   ]
  },
  {
   "cell_type": "markdown",
   "metadata": {},
   "source": [
    "## Q2 Start-up code\n",
    "\n",
    "Use the following template to define a type `LmmObs` that holds an LMM datum $(\\mathbf{y}_i, \\mathbf{X}_i, \\mathbf{Z}_i)$. "
   ]
  },
  {
   "cell_type": "code",
   "execution_count": 2,
   "metadata": {},
   "outputs": [
    {
     "data": {
      "text/plain": [
       "LmmObs"
      ]
     },
     "execution_count": 2,
     "metadata": {},
     "output_type": "execute_result"
    }
   ],
   "source": [
    "# define a type that holds LMM datum\n",
    "struct LmmObs{T <: AbstractFloat}\n",
    "    # data\n",
    "    y :: Vector{T}\n",
    "    X :: Matrix{T}\n",
    "    Z :: Matrix{T}\n",
    "    # working arrays\n",
    "    # whatever intermediate vectors/arrays you may want to pre-allocate\n",
    "    yty        :: T\n",
    "    storage_q  :: Vector{T} \n",
    "    xtx        :: Matrix{T}\n",
    "    ztx        :: Matrix{T}\n",
    "    ztz        :: Matrix{T}\n",
    "    zty        :: Vector{T}\n",
    "    xty        :: Vector{T}\n",
    "    storage_qq :: Matrix{T}\n",
    "end\n",
    "\n",
    "# constructor\n",
    "function LmmObs(\n",
    "        y::Vector{T}, \n",
    "        X::Matrix{T}, \n",
    "        Z::Matrix{T}\n",
    "        ) where T <: AbstractFloat\n",
    "    n, p, q = size(X, 1), size(X, 2), size(Z, 2)   \n",
    "    yty        = abs2(norm(y))\n",
    "    storage_q  = Vector{T}(undef, q)\n",
    "    xtx        = transpose(X) * X\n",
    "    ztx        = transpose(Z) * X\n",
    "    ztz        = transpose(Z) * Z\n",
    "    zty        = transpose(Z) * y\n",
    "    xty        = transpose(X) * y\n",
    "    storage_qq = similar(ztz)\n",
    "\n",
    "    LmmObs(y, X, Z, yty, storage_q, xtx, ztx, ztz, zty, xty, storage_qq)\n",
    "end"
   ]
  },
  {
   "cell_type": "markdown",
   "metadata": {},
   "source": [
    "Write a function, with interface   \n",
    "```julia\n",
    "logl!(obs, β, L, σ²)\n",
    "```\n",
    "that evaluates the log-likelihood of the $i$-th datum. Here `L` is the lower triangular Cholesky factor from the Cholesky decomposition `Σ=LL'`. Make your code efficient in the $n_i \\gg q$ case. Think the intensive longitudinal measurement setting.  "
   ]
  },
  {
   "cell_type": "code",
   "execution_count": 3,
   "metadata": {},
   "outputs": [
    {
     "data": {
      "text/plain": [
       "logl! (generic function with 1 method)"
      ]
     },
     "execution_count": 3,
     "metadata": {},
     "output_type": "execute_result"
    }
   ],
   "source": [
    "function logl!(\n",
    "        obs :: LmmObs{T}, \n",
    "        β   :: Vector{T}, \n",
    "        L   :: Matrix{T}, \n",
    "        σ²  :: T) where T <: AbstractFloat\n",
    "    #n, p, q = size(obs.X, 1), size(obs.X, 2), size(obs.Z, 2)    \n",
    "    n = size(obs.X, 1)\n",
    "    # TODO: compute and return the log-likelihood\n",
    "    \n",
    "    L .= LowerTriangular(L)\n",
    "\n",
    "    # Calculate storage_qq\n",
    "    obs.storage_qq .= obs.ztz\n",
    "    lmul!(transpose(L), obs.storage_qq)\n",
    "    \n",
    "    \n",
    "    rdiv!(obs.storage_qq, σ²)\n",
    "    obs.storage_qq .= cholesky!(Symmetric(syrk!('U', 'T', 1.0, L, 1.0, obs.storage_qq))).L\n",
    "\n",
    "    # Solve for storage_q\n",
    "    obs.storage_q .= obs.zty\n",
    "    axpy!(-1.0, obs.ztx * β, obs.storage_q)\n",
    "    obs.storage_q .= obs.storage_qq \\ obs.storage_q #(obs.zty .- obs.ztx * β)\n",
    "    \n",
    "    n = - (n//2) * log(2π*σ²) - (logdet(Diagonal(obs.storage_qq))) + logdet(Diagonal(L)) - \n",
    "                (1//2) * (1 / σ²) * (obs.yty - 2 * dot(obs.xty, β) + dot(β, obs.xtx * β)) +\n",
    "                (1//2) * ((1 / σ²) ^ 2) * dot(obs.storage_q, obs.storage_q)\n",
    "    \n",
    "    #sleep(1e-3) # wait 1 ms as if your code takes 1ms\n",
    "    return n\n",
    "end"
   ]
  },
  {
   "cell_type": "markdown",
   "metadata": {},
   "source": [
    "**Hint**: This function shouldn't be very long. Mine, obeying 80-character rule, is 25 lines. If you find yourself writing very long code, you're on the wrong track. Think about algorithm first then use BLAS functions to reduce memory allocations."
   ]
  },
  {
   "cell_type": "markdown",
   "metadata": {},
   "source": [
    "## Sol Q2: supplementary materials"
   ]
  },
  {
   "cell_type": "markdown",
   "metadata": {},
   "source": [
    "### The formula I used is\n",
    "\n",
    "\\begin{align}\n",
    "\\log\\text{likelihood}=-\\frac{n}{2}\\log\\left(2\\pi\\right)-\\frac{n\\sigma^2}{2}-\\frac{1}{2}\\log|I_{q}+\\frac{L^TZ^TZL}{\\sigma^2}| -\n",
    "\\frac{1}{2\\sigma^2}\\lVert y-X\\beta \\lVert_2^2+\\frac{1}{2\\sigma^4}\\lVert M^{-1}(Z^Ty-Z^TX\\beta)\\lVert^2_2\n",
    "\\end{align}\n",
    "\n",
    "where $\\Sigma=LL^T$ and $\\left((LL^T)^{-1}+\\frac{1}{\\sigma^2}Z_i^TZ_i\\right)=MM^T$.\n",
    "\n",
    "### Proof\n",
    "\n",
    "From **Q1**, we have $V_i=\\sigma^2I_{n_i}+Z_i\\Sigma Z_i^T$ and\n",
    "$$\\log L(\\boldsymbol{\\beta},\\boldsymbol{\\Sigma},\\sigma^2|\\mathbf{y}_i,\\mathbf{X}_i,\\mathbf{Z}_i)\n",
    "=-\\frac{n_i}{2}\\log\\left(2\\pi\\right)-\\frac{1}{2}\\log|V_i|-\\frac{1}{2}(y_i-X_i\\beta)^TV_i^{-1}(y_i-X_i\\beta)\n",
    "$$\n",
    "By **Cholesky decomposition**, $\\Sigma=LL^T$ where $L$ is lower-triangular with positive diagonal elements. Then by **HW1 Q5**,\n",
    "\n",
    "\\begin{align}\n",
    "|V_i|&=|\\sigma^2I_{n_i}+Z_i\\Sigma Z_i^T|=|I_{q}+L^TZ_i^TZ_iL/\\sigma^2||\\sigma^2I_{n_i}|\\\\\n",
    "V_i^{-1}&=\\frac{1}{\\sigma^2}I_{n_i}-\\frac{1}{\\sigma^4}Z_i\\left((LL^T)^{-1}+\\frac{1}{\\sigma^2}Z_i^TZ_i\\right)^{-1}Z_i^T\n",
    "\\end{align}\n",
    "\n",
    "Let $Q_i=\\left((LL^T)^{-1}+\\frac{1}{\\sigma^2}Z_i^TZ_i\\right)$ and drop all subscripts,\n",
    "\n",
    "$$(y-X\\beta)^TV^{-1}(y-X\\beta)=\\frac{1}{\\sigma^2}\\lVert y-X\\beta \\lVert_2^2-\\frac{1}{\\sigma^4}\\left((y-X\\beta)^TZQ^{-1}Z^T(y-X\\beta)\\right)$$\n",
    "\n",
    "Next, let $Q=MM^T$ be the **Cholesky decomposition** so that \n",
    "\n",
    "\\begin{align}\n",
    "storage\\_q&=Z^T(y-X\\beta)\\\\\n",
    "storage\\_p&=X^Ty\\\\\n",
    "storage\\_qq&=M\n",
    "\\end{align}\n",
    "\n",
    "Thus,\n",
    "\n",
    "$$\\left((y-X\\beta)^TQ^{-1}(y-X\\beta)\\right)=\\lVert M^{-1}(Z^Ty-Z^TX\\beta)\\lVert^2_2$$\n",
    "\n",
    "In conclusion,\n",
    "\n",
    "\\begin{align}\n",
    "\\log\\text{likelihood}=-\\frac{n}{2}\\log\\left(2\\pi\\right)-\\frac{n\\sigma^2}{2}-\\frac{1}{2}\\log|I_{q}+\\frac{L^TZ^TZL}{\\sigma^2}| -\n",
    "\\frac{1}{2\\sigma^2}\\lVert y-X\\beta \\lVert_2^2+\\frac{1}{2\\sigma^4}\\lVert M^{-1}(Z^Ty-Z^TX\\beta)\\lVert^2_2\n",
    "\\end{align}"
   ]
  },
  {
   "cell_type": "markdown",
   "metadata": {},
   "source": [
    "## Q3 Correctness (15 pts)\n",
    "\n",
    "Compare your result (both accuracy and timing) to the [Distributions.jl](https://juliastats.org/Distributions.jl/stable/multivariate/#Distributions.AbstractMvNormal) package using following data."
   ]
  },
  {
   "cell_type": "code",
   "execution_count": 4,
   "metadata": {},
   "outputs": [
    {
     "data": {
      "text/plain": [
       "LmmObs{Float64}([5.982282543893973, 2.1686591674794546, -0.6006179768471266, -2.5921722427552263, -4.1950904215114395, 0.1964435991294155, -1.8584206360155053, -0.471394614388984, 3.81327436179623, 2.7050298050380905  …  -0.9698126660920988, -0.056282731487944146, 0.1361331008072202, -0.27281934708288147, 3.204079310642381, 3.1301513446894234, -0.7337423498389697, -1.1992972996496185, 1.552593065317924, 0.9964276305957047], [1.0 -2.506566300781151 … -0.18291088048140966 0.4598620195142903; 1.0 -0.974090320735282 … -0.7383659530381397 0.4874285643091131; … ; 1.0 0.3528183431516365 … 1.9292747611484156 1.2067313494938754; 1.0 0.019416493632924994 … -1.3213407131023014 -0.06848691909471624], [1.0 0.8585392934004743 -1.9174716700008398; 1.0 0.9654277213047047 0.40862623314285934; … ; 1.0 -0.2387107330196111 -2.0711110232845926; 1.0 -0.9537172982914403 -1.1799476703506613], 7920.592515967593, [2.3376451214e-314, 2.416063529e-314, 2.4160728174e-314], [2000.0 7.318286021569552 … -27.560057241455453 19.275454095874046; 7.318286021569552 2010.5787065188483 … -5.879336208071423 32.62437412025167; … ; -27.560057241455453 -5.879336208071423 … 1982.3343610649047 46.732854634090444; 19.275454095874046 32.62437412025167 … 46.732854634090444 1901.6323257901536], [2000.0 7.318286021569552 … -27.560057241455453 19.275454095874046; -5.306938396090047 -42.928120499846315 … -28.34862491789307 6.57627531843594; -4.4083760092192055 -19.119818852719607 … -19.657259367593987 50.567559508219375], [2000.0 -5.306938396090015 -4.4083760092192055; -5.306938396090015 2047.0348365544394 29.310444065639196; -4.4083760092192055 29.310444065639196 2046.2572130622636], [1501.2716973619506, -30.875172466163555, -1614.2450569926816], [1501.2716973619504, -2008.2435847529005, 284.16176166173324, 844.452000000871, 262.3245955558077], [5.0e-324 2.0e-323 3.5e-323; 1.0e-323 2.5e-323 NaN; NaN 3.0e-323 NaN])"
      ]
     },
     "execution_count": 4,
     "metadata": {},
     "output_type": "execute_result"
    }
   ],
   "source": [
    "using BenchmarkTools, Distributions, LinearAlgebra, Random\n",
    "\n",
    "Random.seed!(257)\n",
    "# dimension\n",
    "n, p, q = 2000, 5, 3\n",
    "# predictors\n",
    "X  = [ones(n) randn(n, p - 1)]\n",
    "Z  = [ones(n) randn(n, q - 1)]\n",
    "# parameter values\n",
    "β  = [2.0; -1.0; rand(p - 2)]\n",
    "σ² = 1.5\n",
    "Σ  = fill(0.1, q, q) + 0.9I\n",
    "# generate y\n",
    "y  = X * β + Z * rand(MvNormal(Σ)) + sqrt(σ²) * randn(n)\n",
    "\n",
    "# form an LmmObs object\n",
    "obs = LmmObs(y, X, Z)"
   ]
  },
  {
   "cell_type": "markdown",
   "metadata": {},
   "source": [
    "This is the standard way to evaluate log-density of a multivariate normal, using the Distributions.jl package. Let's evaluate the log-likelihood of this datum."
   ]
  },
  {
   "cell_type": "code",
   "execution_count": 5,
   "metadata": {},
   "outputs": [
    {
     "data": {
      "text/plain": [
       "-3261.917755918759"
      ]
     },
     "execution_count": 5,
     "metadata": {},
     "output_type": "execute_result"
    }
   ],
   "source": [
    "μ  = X * β\n",
    "Ω  = Z * Σ * transpose(Z) +  σ² * I\n",
    "mvn = MvNormal(μ, Symmetric(Ω)) # MVN(μ, Σ)\n",
    "logpdf(mvn, y)"
   ]
  },
  {
   "cell_type": "markdown",
   "metadata": {},
   "source": [
    "Check that your answer matches that from Distributions.jl"
   ]
  },
  {
   "cell_type": "code",
   "execution_count": 6,
   "metadata": {},
   "outputs": [
    {
     "data": {
      "text/plain": [
       "-3261.91775591876"
      ]
     },
     "execution_count": 6,
     "metadata": {},
     "output_type": "execute_result"
    }
   ],
   "source": [
    "using LinearAlgebra.BLAS\n",
    "\n",
    "L = Matrix(cholesky(Σ).L)\n",
    "L = inv(L)\n",
    "logl!(obs, β, L, σ²)"
   ]
  },
  {
   "cell_type": "markdown",
   "metadata": {},
   "source": [
    "**You will lose all 15 + 30 + 30 = 75 points** if the following statement throws `AssertionError`."
   ]
  },
  {
   "cell_type": "code",
   "execution_count": 7,
   "metadata": {},
   "outputs": [],
   "source": [
    "#@assert logl!(obs, β, Matrix(cholesky(Σ).L), σ²) ≈ logpdf(mvn, y)\n",
    "@assert logl!(obs, β, inv(Matrix(cholesky(Σ).L)), σ²) ≈ logpdf(mvn, y)"
   ]
  },
  {
   "cell_type": "markdown",
   "metadata": {},
   "source": [
    "## Q4 Efficiency (30 pts)\n",
    "\n",
    "Benchmarking your code and compare to the Distributions.jl function `logpdf`."
   ]
  },
  {
   "cell_type": "code",
   "execution_count": 8,
   "metadata": {},
   "outputs": [
    {
     "data": {
      "text/plain": [
       "BenchmarkTools.Trial: \n",
       "  memory estimate:  30.55 MiB\n",
       "  allocs estimate:  5\n",
       "  --------------\n",
       "  minimum time:     5.174 ms (0.00% GC)\n",
       "  median time:      5.425 ms (0.00% GC)\n",
       "  mean time:        5.589 ms (2.99% GC)\n",
       "  maximum time:     9.085 ms (7.26% GC)\n",
       "  --------------\n",
       "  samples:          895\n",
       "  evals/sample:     1"
      ]
     },
     "execution_count": 8,
     "metadata": {},
     "output_type": "execute_result"
    }
   ],
   "source": [
    "# benchmark the `logpdf` function in Distribution.jl\n",
    "bm1 = @benchmark logpdf($mvn, $y)"
   ]
  },
  {
   "cell_type": "code",
   "execution_count": 9,
   "metadata": {},
   "outputs": [
    {
     "data": {
      "text/plain": [
       "BenchmarkTools.Trial: \n",
       "  memory estimate:  800 bytes\n",
       "  allocs estimate:  9\n",
       "  --------------\n",
       "  minimum time:     1.021 μs (0.00% GC)\n",
       "  median time:      1.054 μs (0.00% GC)\n",
       "  mean time:        1.086 μs (1.86% GC)\n",
       "  maximum time:     204.092 μs (98.89% GC)\n",
       "  --------------\n",
       "  samples:          10000\n",
       "  evals/sample:     10"
      ]
     },
     "execution_count": 9,
     "metadata": {},
     "output_type": "execute_result"
    }
   ],
   "source": [
    "# benchmark your implementation\n",
    "L = Matrix(cholesky(Σ).L)\n",
    "L = inv(L)\n",
    "bm2 = @benchmark logl!($obs, $β, $L, $σ²)"
   ]
  },
  {
   "cell_type": "markdown",
   "metadata": {},
   "source": [
    "The points you will get is\n",
    "$$\n",
    "\\frac{x}{10000} \\times 30,\n",
    "$$\n",
    "where $x$ is the speedup of your program against the standard method."
   ]
  },
  {
   "cell_type": "code",
   "execution_count": 10,
   "metadata": {},
   "outputs": [
    {
     "data": {
      "text/plain": [
       "15.43812749003984"
      ]
     },
     "execution_count": 10,
     "metadata": {},
     "output_type": "execute_result"
    }
   ],
   "source": [
    "# this is the points you'll get\n",
    "clamp(median(bm1).time / median(bm2).time / 10_000 * 30, 0, 30)"
   ]
  },
  {
   "cell_type": "markdown",
   "metadata": {},
   "source": [
    "**Hint**: Apparently I am using 10000 as denominator because I expect your code to be at least $10000 \\times$ faster than the standard method."
   ]
  },
  {
   "cell_type": "markdown",
   "metadata": {},
   "source": [
    "## Q5 Memory (30 pts)\n",
    "\n",
    "You want to avoid memory allocation in the \"hot\" function `logl!`. You will lose 1 point for each `1 KiB = 1024 bytes` memory allocation. In other words, the points you get for this question is"
   ]
  },
  {
   "cell_type": "code",
   "execution_count": 11,
   "metadata": {},
   "outputs": [
    {
     "data": {
      "text/plain": [
       "29.21875"
      ]
     },
     "execution_count": 11,
     "metadata": {},
     "output_type": "execute_result"
    }
   ],
   "source": [
    "clamp(30 - median(bm2).memory / 1024, 0, 30)"
   ]
  },
  {
   "cell_type": "markdown",
   "metadata": {},
   "source": [
    "**Hint**: I am able to reduce the memory allocation to 0 bytes."
   ]
  },
  {
   "cell_type": "markdown",
   "metadata": {},
   "source": [
    "## Q6 Misc (15 pts)\n",
    "\n",
    "Coding style, Git workflow, etc. For reproducibity, make sure we (TA and myself) can run your Jupyter Notebook. That is how we grade Q4 and Q5. If we cannot run it, you will get zero points."
   ]
  }
 ],
 "metadata": {
  "@webio": {
   "lastCommId": null,
   "lastKernelId": null
  },
  "kernelspec": {
   "display_name": "Julia 1.6.0",
   "language": "julia",
   "name": "julia-1.6"
  },
  "language_info": {
   "file_extension": ".jl",
   "mimetype": "application/julia",
   "name": "julia",
   "version": "1.6.0"
  },
  "toc": {
   "colors": {
    "hover_highlight": "#DAA520",
    "running_highlight": "#FF0000",
    "selected_highlight": "#FFD700"
   },
   "moveMenuLeft": true,
   "nav_menu": {
    "height": "87px",
    "width": "252px"
   },
   "navigate_menu": true,
   "number_sections": true,
   "sideBar": true,
   "skip_h1_title": true,
   "threshold": 4,
   "toc_cell": false,
   "toc_section_display": "block",
   "toc_window_display": false,
   "widenNotebook": false
  }
 },
 "nbformat": 4,
 "nbformat_minor": 4
}
