{
 "cells": [
  {
   "cell_type": "markdown",
   "id": "artificial-sussex",
   "metadata": {},
   "source": [
    "# Biostat 257 Homework 1\n",
    "\n",
    "#### Due Apr 16 @ 11:59PM\n",
    "**Elvis Cui** elviscuihan@g.ucla.edu\n",
    "\n",
    "*PhD Student at Department of Biostatistics, UCLA*"
   ]
  },
  {
   "cell_type": "markdown",
   "id": "eebcadcc",
   "metadata": {},
   "source": [
    "## Sol Q1\n",
    "\n",
    "- Done.\n",
    "- Please see https://github.com/ElvisCuiHan/biostat-257-2021-spring."
   ]
  },
  {
   "cell_type": "markdown",
   "id": "bb8039a7",
   "metadata": {},
   "source": [
    "## Sol Q2"
   ]
  },
  {
   "cell_type": "code",
   "execution_count": null,
   "id": "baff791b",
   "metadata": {},
   "outputs": [],
   "source": []
  },
  {
   "cell_type": "markdown",
   "id": "fuzzy-watts",
   "metadata": {},
   "source": [
    "## Sol Q5\n",
    "\n",
    "1. **Sherman-Morrison Formula**: Direct approach.\n",
    "\\begin{align}\n",
    "&\\ \\ \\ \\ \\left(A^{-1}-\\frac{1}{1+u^TA^{-1}u}A^{-1}uu^TA^{-1}\\right)\\left(A+uu^T\\right)\\\\\n",
    "&=I+A^{-1}uu^T-\\frac{1}{1+u^TA^{-1}u}A^{-1}uu^T-\\frac{1}{1+u^TA^{-1}u}A^{-1}u(u^TA^{-1}u)u^T\\\\\n",
    "&=I+A^{-1}uu^T-\\left(\\frac{1+u^TA^{-1}u}{1+u^TA^{-1}u}\\right)A^{-1}uu^T\\\\\n",
    "&=I\n",
    "\\end{align}\n",
    "\n",
    "2. **Woodbury Formula**: the result follows immediately by letting $B=I_m$ in *binomial inversion formula*,.\n",
    "\n",
    "3. **Binomial Inversion Formula**: Algebraic approach.\n",
    "\n",
    "ETS \n",
    "$$\n",
    "A^{-1}=(A+UBV^T)^{-1}+A^{-1}U(B^{-1}+V^TA^{-1}U)^{-1}V^TA\n",
    "$$ \n",
    "\n",
    "First, note that\n",
    "$$\n",
    "    U+UBV^TA^{-1}U=UB(B^{-1}+V^TA^{-1}U)=(A+UBV^T)A^{-1}U\n",
    "$$\n",
    "since $A,B$ is non-singular. Thus,\n",
    "$$\n",
    "    (A+UBV^T)^{-1}UB=A^{-1}U(B^{-1}+V^TA^{-1}U)^{-1}\n",
    "$$\n",
    "Hence,\n",
    "\\begin{align}\n",
    "A^{-1}&=(A+UBV^T)^{-1}(A+UBV^T)A^{-1}\\\\\n",
    "&=(A+UBV^T)^{-1}(I+UBV^TA)\\\\\n",
    "&=(A+UBV^T)^{-1}+\\left[(A+UBV^T)UB\\right]V^{T}A\\\\\n",
    "&=_{\\text{see above}}(A+UBV^T)^{-1}+A^{-1}U(B^{-1}+V^TA^{-1}U)^{-1}V^TA\n",
    "\\end{align}\n",
    "\n",
    "4. **Determinant Formula**\n",
    "\n",
    "WLOG, suppose $A\\in\\mathbb{R}^{n\\times n}$ and $U,V^T\\in\\mathbb{R}^{n\\times m}$. Then is it enough to show\n",
    "\n",
    "\\begin{align}\\tag{*}\n",
    "\\det|I_m+V^TA^{-1}U|=\\det|I_n+A^{-1}UV^{T}|\n",
    "\\end{align}\n",
    "\n",
    "Then \n",
    "$$\n",
    "\\det|A|\\det|I_m+V^TA^{-1}U|=\\det|A\\left(I_n+A^{-1}UV^T\\right)|=\\det|A+UV^T|\n",
    "$$\n",
    "But (*) follows from a lemma in **Biostat 250A**:\n",
    "$$\n",
    "\\det|I_m+AB|=\\det|I_n+BA|\n",
    "$$\n",
    "The proof is shown below.\n",
    "\\begin{align}\n",
    "\\det|I+AB|&=\\det\\left|\\left(\\begin{matrix}I+AB&A\\\\\n",
    "0&I\\end{matrix}\\right)\\right|\\\\\n",
    "&=\\det\\left|\\left(\\begin{matrix}I&A\\\\\n",
    "-B&I\\end{matrix}\\right)\\left(\\begin{matrix}I&0\\\\\n",
    "B&I\\end{matrix}\\right)\\right|\\\\\n",
    "&=\\det\\left|\\left(\\begin{matrix}I&0\\\\\n",
    "B&I\\end{matrix}\\right)\\left(\\begin{matrix}I&A\\\\\n",
    "-B&I\\end{matrix}\\right)\\right|\\\\\n",
    "&=\\det\\left|\\left(\\begin{matrix}I&A\\\\\n",
    "0&I+BA\\end{matrix}\\right)\\right|\\\\\n",
    "&=\\det|I+BA|\n",
    "\\end{align}"
   ]
  },
  {
   "cell_type": "code",
   "execution_count": null,
   "id": "whole-skiing",
   "metadata": {},
   "outputs": [],
   "source": []
  }
 ],
 "metadata": {
  "kernelspec": {
   "display_name": "Julia 1.6.0",
   "language": "julia",
   "name": "julia-1.6"
  },
  "language_info": {
   "file_extension": ".jl",
   "mimetype": "application/julia",
   "name": "julia",
   "version": "1.6.0"
  }
 },
 "nbformat": 4,
 "nbformat_minor": 5
}
