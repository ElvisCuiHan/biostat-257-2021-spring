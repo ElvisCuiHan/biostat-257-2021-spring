{
 "cells": [
  {
   "cell_type": "markdown",
   "metadata": {},
   "source": [
    "# Biostat 257 Homework 1\n",
    "\n",
    "#### Due Apr 16 @ 11:59PM\n",
    "**Elvis Cui** elviscuihan@g.ucla.edu\n",
    "\n",
    "*PhD Student at Department of Biostatistics, UCLA*"
   ]
  },
  {
   "cell_type": "markdown",
   "metadata": {},
   "source": [
    "## Q1\n",
    "\n",
    "**No handwritten homework reports are accepted for this course.**  We work with Git/GitHub.  Efficient and abundant use of Git, e.g., **frequent and well-documented** commits, is an important criterion for grading your homework.\n",
    "\n",
    "1. If you don't have a GitHub account, apply for the [Student Developer Pack](https://education.github.com/pack) at GitHub using your UCLA email.\n",
    "\n",
    "2. Create a **private** repository `biostat-257-2021-spring` and add `Hua-Zhou` and `Chris-German` (TA) as your collaborators.\n",
    "\n",
    "3. Top directories of the repository should be `hw1`, `hw2`, ... You may create other branches for developing your homework solutions; but the `master` branch will be your presentation area. Put your homework submission files (Jupyter notebook `.ipynb`, html converted from notebook, all code and data set to reproduce results) in the `master` branch. \n",
    "\n",
    "4. After each homework due date, teaching assistant and instructor will check out your `master` branch for grading. Tag each of your homework submissions with tag names `hw1`, `hw2`, ...  Tagging time will be used as your submission time. That means if you tag your hw1 submission after deadline, penalty points will be deducted for late submission.  \n",
    "\n",
    "5. Read the [style guide](https://github.com/johnmyleswhite/Style.jl) for Julia programming. Following rules in the style guide will be strictly enforced when grading: (4) four space indenting rule, (6) 80 charcter rule, (7) space after comma rule, (8) no space before comma rule, (9) space around operator rule."
   ]
  },
  {
   "cell_type": "markdown",
   "metadata": {},
   "source": [
    "## Sol Q1\n",
    "\n",
    "- Done.\n",
    "- Please see https://github.com/ElvisCuiHan/biostat-257-2021-spring."
   ]
  },
  {
   "cell_type": "markdown",
   "metadata": {},
   "source": [
    "## Q2\n",
    "\n",
    "Let's check whether floating-point numbers obey certain algebraic rules. For 2-5, one counter-example suffices.\n",
    "\n",
    "1. Associative rule for addition says `(x + y) + z == x + (y + z)`. Check association rule using `x = 0.1`, `y = 0.1` and `z = 1.0` in Julia. Explain what you find.\n",
    "\n",
    "2. Do floating-point numbers obey the associative rule for multiplication: `(x * y) * z == x * (y * z)`?\n",
    "\n",
    "3. Do floating-point numbers obey the distributive rule: `a * (x + y) == a * x + a * y`?  \n",
    "\n",
    "4. Is `0 * x == 0` true for all floating-point number `x`? \n",
    "\n",
    "5. Is `x / a == x * (1 / a)` always true?"
   ]
  },
  {
   "cell_type": "markdown",
   "metadata": {},
   "source": [
    "## Sol Q2\n",
    "\n",
    "1."
   ]
  },
  {
   "cell_type": "code",
   "execution_count": 6,
   "metadata": {},
   "outputs": [
    {
     "name": "stdout",
     "output_type": "stream",
     "text": [
      "1.2\n",
      "1.2000000000000002\n"
     ]
    },
    {
     "data": {
      "text/plain": [
       "false"
      ]
     },
     "execution_count": 6,
     "metadata": {},
     "output_type": "execute_result"
    }
   ],
   "source": [
    "x = 0.1; y = 0.1; z = 1.0\n",
    "\n",
    "println((x + y) + z)\n",
    "println(x + (y + z))\n",
    "(x + y) + z == x + (y + z)"
   ]
  },
  {
   "cell_type": "markdown",
   "metadata": {},
   "source": [
    "**What I have found**: $(x + y) + z$ is not equal to $x + (y + z)$, and this is due to the round off of floating-point numbers.\n",
    "\n",
    "2. No."
   ]
  },
  {
   "cell_type": "code",
   "execution_count": 54,
   "metadata": {},
   "outputs": [
    {
     "name": "stdout",
     "output_type": "stream",
     "text": [
      "1.3199999999999998 1.32\n"
     ]
    },
    {
     "data": {
      "text/plain": [
       "false"
      ]
     },
     "execution_count": 54,
     "metadata": {},
     "output_type": "execute_result"
    }
   ],
   "source": [
    "x = 1.2; y = 0.1; z = 11\n",
    "\n",
    "println((x * y) * z, \" \", x * (y * z))\n",
    "(x * y) * z == x * (y * z)"
   ]
  },
  {
   "cell_type": "markdown",
   "metadata": {},
   "source": [
    "3. No."
   ]
  },
  {
   "cell_type": "code",
   "execution_count": 53,
   "metadata": {},
   "outputs": [
    {
     "name": "stdout",
     "output_type": "stream",
     "text": [
      "1.32 1.3199999999999998\n"
     ]
    },
    {
     "data": {
      "text/plain": [
       "false"
      ]
     },
     "execution_count": 53,
     "metadata": {},
     "output_type": "execute_result"
    }
   ],
   "source": [
    "a = 1.2; x = 1.0; y = 0.1\n",
    "\n",
    "println(a * (x + y), \" \", a * x + a * y)\n",
    "a * (x + y) == a * x + a * y"
   ]
  },
  {
   "cell_type": "markdown",
   "metadata": {},
   "source": [
    "4. No."
   ]
  },
  {
   "cell_type": "code",
   "execution_count": 52,
   "metadata": {},
   "outputs": [
    {
     "name": "stdout",
     "output_type": "stream",
     "text": [
      "NaN\n"
     ]
    },
    {
     "data": {
      "text/plain": [
       "false"
      ]
     },
     "execution_count": 52,
     "metadata": {},
     "output_type": "execute_result"
    }
   ],
   "source": [
    "x = Inf\n",
    "\n",
    "println(0 * x)\n",
    "0 * x == 0"
   ]
  },
  {
   "cell_type": "markdown",
   "metadata": {},
   "source": [
    "5. No."
   ]
  },
  {
   "cell_type": "code",
   "execution_count": 48,
   "metadata": {},
   "outputs": [
    {
     "name": "stdout",
     "output_type": "stream",
     "text": [
      "1.0e-50 9.999999999999999e-51\n"
     ]
    },
    {
     "data": {
      "text/plain": [
       "false"
      ]
     },
     "execution_count": 48,
     "metadata": {},
     "output_type": "execute_result"
    }
   ],
   "source": [
    "x = 1e-12; a = 1e38\n",
    "\n",
    "println(x / a, \" \", x * (1 / a))\n",
    "x / a == x * (1 / a)"
   ]
  },
  {
   "cell_type": "markdown",
   "metadata": {},
   "source": [
    "## Q3\n",
    "\n",
    "Consider Julia function\n",
    "```julia\n",
    "function g(k)\n",
    "    for i in 1:10\n",
    "        k = 5k - 1\n",
    "    end\n",
    "    k\n",
    "end\n",
    "```\n",
    "1. Use `@code_llvm` to find the LLVM bitcode of compiled `g` with `Int64` input.   \n",
    "2. Use `@code_llvm` to find the LLVM bitcode of compiled `g` with `Float64` input.  \n",
    "3. Compare the bitcode from questions 1 and 2. What do you find?  \n",
    "4. Read Julia documentation on `@fastmath` and repeat the questions 1-3 on the function  \n",
    "\n",
    "```julia\n",
    "function g_fastmath(k)  \n",
    "    @fastmath for i in 1:10  \n",
    "        k = 5k - 1\n",
    "    end\n",
    "    k\n",
    "end\n",
    "```\n",
    "    Explain what does macro `@fastmath` do?"
   ]
  },
  {
   "cell_type": "code",
   "execution_count": 1,
   "metadata": {},
   "outputs": [
    {
     "data": {
      "text/plain": [
       "g_fastmath (generic function with 1 method)"
      ]
     },
     "execution_count": 1,
     "metadata": {},
     "output_type": "execute_result"
    }
   ],
   "source": [
    "function g(k)\n",
    "    for i in 1:10\n",
    "        k = 5k - 1\n",
    "    end\n",
    "    k\n",
    "end\n",
    "\n",
    "function g_fastmath(k)  \n",
    "    @fastmath for i in 1:10  \n",
    "        k = 5k - 1\n",
    "    end\n",
    "    k\n",
    "end"
   ]
  },
  {
   "cell_type": "markdown",
   "metadata": {},
   "source": [
    "## Sol Q3\n",
    "1."
   ]
  },
  {
   "cell_type": "code",
   "execution_count": 2,
   "metadata": {},
   "outputs": [
    {
     "data": {
      "text/plain": [
       "Int64"
      ]
     },
     "execution_count": 2,
     "metadata": {},
     "output_type": "execute_result"
    }
   ],
   "source": [
    "typeof(2)"
   ]
  },
  {
   "cell_type": "code",
   "execution_count": 3,
   "metadata": {},
   "outputs": [
    {
     "name": "stdout",
     "output_type": "stream",
     "text": [
      "\u001b[90m;  @ In[1]:1 within `g'\u001b[39m\n",
      "\u001b[95mdefine\u001b[39m \u001b[36mi64\u001b[39m \u001b[93m@julia_g_1208\u001b[39m\u001b[33m(\u001b[39m\u001b[36mi64\u001b[39m \u001b[95msignext\u001b[39m \u001b[0m%0\u001b[33m)\u001b[39m \u001b[33m{\u001b[39m\n",
      "\u001b[91mtop:\u001b[39m\n",
      "\u001b[90m;  @ In[1]:3 within `g'\u001b[39m\n",
      "\u001b[90m; ┌ @ int.jl:88 within `*'\u001b[39m\n",
      "   \u001b[0m%1 \u001b[0m= \u001b[96m\u001b[1mmul\u001b[22m\u001b[39m \u001b[36mi64\u001b[39m \u001b[0m%0\u001b[0m, \u001b[33m9765625\u001b[39m\n",
      "\u001b[90m; └\u001b[39m\n",
      "\u001b[90m; ┌ @ int.jl:86 within `-'\u001b[39m\n",
      "   \u001b[0m%2 \u001b[0m= \u001b[96m\u001b[1madd\u001b[22m\u001b[39m \u001b[36mi64\u001b[39m \u001b[0m%1\u001b[0m, \u001b[33m-2441406\u001b[39m\n",
      "\u001b[90m; └\u001b[39m\n",
      "\u001b[90m;  @ In[1]:5 within `g'\u001b[39m\n",
      "  \u001b[96m\u001b[1mret\u001b[22m\u001b[39m \u001b[36mi64\u001b[39m \u001b[0m%2\n",
      "\u001b[33m}\u001b[39m\n"
     ]
    }
   ],
   "source": [
    "@code_llvm g(2)"
   ]
  },
  {
   "cell_type": "markdown",
   "metadata": {},
   "source": [
    "2."
   ]
  },
  {
   "cell_type": "code",
   "execution_count": 63,
   "metadata": {},
   "outputs": [
    {
     "data": {
      "text/plain": [
       "Float64"
      ]
     },
     "execution_count": 63,
     "metadata": {},
     "output_type": "execute_result"
    }
   ],
   "source": [
    "typeof(2.0)"
   ]
  },
  {
   "cell_type": "code",
   "execution_count": 60,
   "metadata": {},
   "outputs": [
    {
     "name": "stdout",
     "output_type": "stream",
     "text": [
      "\u001b[90m;  @ In[56]:1 within `g'\u001b[39m\n",
      "\u001b[95mdefine\u001b[39m \u001b[36mdouble\u001b[39m \u001b[93m@julia_g_1656\u001b[39m\u001b[33m(\u001b[39m\u001b[36mdouble\u001b[39m \u001b[0m%0\u001b[33m)\u001b[39m \u001b[33m{\u001b[39m\n",
      "\u001b[91mtop:\u001b[39m\n",
      "\u001b[90m;  @ In[56]:3 within `g'\u001b[39m\n",
      "\u001b[90m; ┌ @ promotion.jl:322 within `*' @ float.jl:332\u001b[39m\n",
      "   \u001b[0m%1 \u001b[0m= \u001b[96m\u001b[1mfmul\u001b[22m\u001b[39m \u001b[36mdouble\u001b[39m \u001b[0m%0\u001b[0m, \u001b[33m5.000000e+00\u001b[39m\n",
      "\u001b[90m; └\u001b[39m\n",
      "\u001b[90m; ┌ @ promotion.jl:323 within `-' @ float.jl:329\u001b[39m\n",
      "   \u001b[0m%2 \u001b[0m= \u001b[96m\u001b[1mfadd\u001b[22m\u001b[39m \u001b[36mdouble\u001b[39m \u001b[0m%1\u001b[0m, \u001b[33m-1.000000e+00\u001b[39m\n",
      "\u001b[90m; └\u001b[39m\n",
      "\u001b[90m; ┌ @ promotion.jl:322 within `*' @ float.jl:332\u001b[39m\n",
      "   \u001b[0m%3 \u001b[0m= \u001b[96m\u001b[1mfmul\u001b[22m\u001b[39m \u001b[36mdouble\u001b[39m \u001b[0m%2\u001b[0m, \u001b[33m5.000000e+00\u001b[39m\n",
      "\u001b[90m; └\u001b[39m\n",
      "\u001b[90m; ┌ @ promotion.jl:323 within `-' @ float.jl:329\u001b[39m\n",
      "   \u001b[0m%4 \u001b[0m= \u001b[96m\u001b[1mfadd\u001b[22m\u001b[39m \u001b[36mdouble\u001b[39m \u001b[0m%3\u001b[0m, \u001b[33m-1.000000e+00\u001b[39m\n",
      "\u001b[90m; └\u001b[39m\n",
      "\u001b[90m; ┌ @ promotion.jl:322 within `*' @ float.jl:332\u001b[39m\n",
      "   \u001b[0m%5 \u001b[0m= \u001b[96m\u001b[1mfmul\u001b[22m\u001b[39m \u001b[36mdouble\u001b[39m \u001b[0m%4\u001b[0m, \u001b[33m5.000000e+00\u001b[39m\n",
      "\u001b[90m; └\u001b[39m\n",
      "\u001b[90m; ┌ @ promotion.jl:323 within `-' @ float.jl:329\u001b[39m\n",
      "   \u001b[0m%6 \u001b[0m= \u001b[96m\u001b[1mfadd\u001b[22m\u001b[39m \u001b[36mdouble\u001b[39m \u001b[0m%5\u001b[0m, \u001b[33m-1.000000e+00\u001b[39m\n",
      "\u001b[90m; └\u001b[39m\n",
      "\u001b[90m; ┌ @ promotion.jl:322 within `*' @ float.jl:332\u001b[39m\n",
      "   \u001b[0m%7 \u001b[0m= \u001b[96m\u001b[1mfmul\u001b[22m\u001b[39m \u001b[36mdouble\u001b[39m \u001b[0m%6\u001b[0m, \u001b[33m5.000000e+00\u001b[39m\n",
      "\u001b[90m; └\u001b[39m\n",
      "\u001b[90m; ┌ @ promotion.jl:323 within `-' @ float.jl:329\u001b[39m\n",
      "   \u001b[0m%8 \u001b[0m= \u001b[96m\u001b[1mfadd\u001b[22m\u001b[39m \u001b[36mdouble\u001b[39m \u001b[0m%7\u001b[0m, \u001b[33m-1.000000e+00\u001b[39m\n",
      "\u001b[90m; └\u001b[39m\n",
      "\u001b[90m; ┌ @ promotion.jl:322 within `*' @ float.jl:332\u001b[39m\n",
      "   \u001b[0m%9 \u001b[0m= \u001b[96m\u001b[1mfmul\u001b[22m\u001b[39m \u001b[36mdouble\u001b[39m \u001b[0m%8\u001b[0m, \u001b[33m5.000000e+00\u001b[39m\n",
      "\u001b[90m; └\u001b[39m\n",
      "\u001b[90m; ┌ @ promotion.jl:323 within `-' @ float.jl:329\u001b[39m\n",
      "   \u001b[0m%10 \u001b[0m= \u001b[96m\u001b[1mfadd\u001b[22m\u001b[39m \u001b[36mdouble\u001b[39m \u001b[0m%9\u001b[0m, \u001b[33m-1.000000e+00\u001b[39m\n",
      "\u001b[90m; └\u001b[39m\n",
      "\u001b[90m; ┌ @ promotion.jl:322 within `*' @ float.jl:332\u001b[39m\n",
      "   \u001b[0m%11 \u001b[0m= \u001b[96m\u001b[1mfmul\u001b[22m\u001b[39m \u001b[36mdouble\u001b[39m \u001b[0m%10\u001b[0m, \u001b[33m5.000000e+00\u001b[39m\n",
      "\u001b[90m; └\u001b[39m\n",
      "\u001b[90m; ┌ @ promotion.jl:323 within `-' @ float.jl:329\u001b[39m\n",
      "   \u001b[0m%12 \u001b[0m= \u001b[96m\u001b[1mfadd\u001b[22m\u001b[39m \u001b[36mdouble\u001b[39m \u001b[0m%11\u001b[0m, \u001b[33m-1.000000e+00\u001b[39m\n",
      "\u001b[90m; └\u001b[39m\n",
      "\u001b[90m; ┌ @ promotion.jl:322 within `*' @ float.jl:332\u001b[39m\n",
      "   \u001b[0m%13 \u001b[0m= \u001b[96m\u001b[1mfmul\u001b[22m\u001b[39m \u001b[36mdouble\u001b[39m \u001b[0m%12\u001b[0m, \u001b[33m5.000000e+00\u001b[39m\n",
      "\u001b[90m; └\u001b[39m\n",
      "\u001b[90m; ┌ @ promotion.jl:323 within `-' @ float.jl:329\u001b[39m\n",
      "   \u001b[0m%14 \u001b[0m= \u001b[96m\u001b[1mfadd\u001b[22m\u001b[39m \u001b[36mdouble\u001b[39m \u001b[0m%13\u001b[0m, \u001b[33m-1.000000e+00\u001b[39m\n",
      "\u001b[90m; └\u001b[39m\n",
      "\u001b[90m; ┌ @ promotion.jl:322 within `*' @ float.jl:332\u001b[39m\n",
      "   \u001b[0m%15 \u001b[0m= \u001b[96m\u001b[1mfmul\u001b[22m\u001b[39m \u001b[36mdouble\u001b[39m \u001b[0m%14\u001b[0m, \u001b[33m5.000000e+00\u001b[39m\n",
      "\u001b[90m; └\u001b[39m\n",
      "\u001b[90m; ┌ @ promotion.jl:323 within `-' @ float.jl:329\u001b[39m\n",
      "   \u001b[0m%16 \u001b[0m= \u001b[96m\u001b[1mfadd\u001b[22m\u001b[39m \u001b[36mdouble\u001b[39m \u001b[0m%15\u001b[0m, \u001b[33m-1.000000e+00\u001b[39m\n",
      "\u001b[90m; └\u001b[39m\n",
      "\u001b[90m; ┌ @ promotion.jl:322 within `*' @ float.jl:332\u001b[39m\n",
      "   \u001b[0m%17 \u001b[0m= \u001b[96m\u001b[1mfmul\u001b[22m\u001b[39m \u001b[36mdouble\u001b[39m \u001b[0m%16\u001b[0m, \u001b[33m5.000000e+00\u001b[39m\n",
      "\u001b[90m; └\u001b[39m\n",
      "\u001b[90m; ┌ @ promotion.jl:323 within `-' @ float.jl:329\u001b[39m\n",
      "   \u001b[0m%18 \u001b[0m= \u001b[96m\u001b[1mfadd\u001b[22m\u001b[39m \u001b[36mdouble\u001b[39m \u001b[0m%17\u001b[0m, \u001b[33m-1.000000e+00\u001b[39m\n",
      "\u001b[90m; └\u001b[39m\n",
      "\u001b[90m; ┌ @ promotion.jl:322 within `*' @ float.jl:332\u001b[39m\n",
      "   \u001b[0m%19 \u001b[0m= \u001b[96m\u001b[1mfmul\u001b[22m\u001b[39m \u001b[36mdouble\u001b[39m \u001b[0m%18\u001b[0m, \u001b[33m5.000000e+00\u001b[39m\n",
      "\u001b[90m; └\u001b[39m\n",
      "\u001b[90m; ┌ @ promotion.jl:323 within `-' @ float.jl:329\u001b[39m\n",
      "   \u001b[0m%20 \u001b[0m= \u001b[96m\u001b[1mfadd\u001b[22m\u001b[39m \u001b[36mdouble\u001b[39m \u001b[0m%19\u001b[0m, \u001b[33m-1.000000e+00\u001b[39m\n",
      "\u001b[90m; └\u001b[39m\n",
      "\u001b[90m;  @ In[56]:5 within `g'\u001b[39m\n",
      "  \u001b[96m\u001b[1mret\u001b[22m\u001b[39m \u001b[36mdouble\u001b[39m \u001b[0m%20\n",
      "\u001b[33m}\u001b[39m\n"
     ]
    }
   ],
   "source": [
    "@code_llvm g(2.0)"
   ]
  },
  {
   "cell_type": "markdown",
   "metadata": {},
   "source": [
    "3. For `Int64`: no loop, 2 steps in total. For `Float64`: 10 loops, 20 steps in total."
   ]
  },
  {
   "cell_type": "markdown",
   "metadata": {},
   "source": [
    "4."
   ]
  },
  {
   "cell_type": "code",
   "execution_count": 11,
   "metadata": {},
   "outputs": [
    {
     "data": {
      "text/latex": [
       "\\begin{verbatim}\n",
       "@fastmath expr\n",
       "\\end{verbatim}\n",
       "Execute a transformed version of the expression, which calls functions that may violate strict IEEE semantics. This allows the fastest possible operation, but results are undefined – be careful when doing this, as it may change numerical results.\n",
       "\n",
       "This sets the \\href{http://llvm.org/docs/LangRef.html#fast-math-flags}{LLVM Fast-Math flags}, and corresponds to the \\texttt{-ffast-math} option in clang. See \\href{@ref man-performance-annotations}{the notes on performance annotations} for more details.\n",
       "\n",
       "\\section{Examples}\n",
       "\\begin{verbatim}\n",
       "julia> @fastmath 1+2\n",
       "3\n",
       "\n",
       "julia> @fastmath(sin(3))\n",
       "0.1411200080598672\n",
       "\\end{verbatim}\n"
      ],
      "text/markdown": [
       "```\n",
       "@fastmath expr\n",
       "```\n",
       "\n",
       "Execute a transformed version of the expression, which calls functions that may violate strict IEEE semantics. This allows the fastest possible operation, but results are undefined – be careful when doing this, as it may change numerical results.\n",
       "\n",
       "This sets the [LLVM Fast-Math flags](http://llvm.org/docs/LangRef.html#fast-math-flags), and corresponds to the `-ffast-math` option in clang. See [the notes on performance annotations](@ref man-performance-annotations) for more details.\n",
       "\n",
       "# Examples\n",
       "\n",
       "```jldoctest\n",
       "julia> @fastmath 1+2\n",
       "3\n",
       "\n",
       "julia> @fastmath(sin(3))\n",
       "0.1411200080598672\n",
       "```\n"
      ],
      "text/plain": [
       "\u001b[36m  @fastmath expr\u001b[39m\n",
       "\n",
       "  Execute a transformed version of the expression, which calls functions that\n",
       "  may violate strict IEEE semantics. This allows the fastest possible\n",
       "  operation, but results are undefined – be careful when doing this, as it may\n",
       "  change numerical results.\n",
       "\n",
       "  This sets the LLVM Fast-Math flags\n",
       "  (http://llvm.org/docs/LangRef.html#fast-math-flags), and corresponds to the\n",
       "  \u001b[36m-ffast-math\u001b[39m option in clang. See the notes on performance annotations for\n",
       "  more details.\n",
       "\n",
       "\u001b[1m  Examples\u001b[22m\n",
       "\u001b[1m  ≡≡≡≡≡≡≡≡≡≡\u001b[22m\n",
       "\n",
       "\u001b[36m  julia> @fastmath 1+2\u001b[39m\n",
       "\u001b[36m  3\u001b[39m\n",
       "\u001b[36m  \u001b[39m\n",
       "\u001b[36m  julia> @fastmath(sin(3))\u001b[39m\n",
       "\u001b[36m  0.1411200080598672\u001b[39m"
      ]
     },
     "execution_count": 11,
     "metadata": {},
     "output_type": "execute_result"
    }
   ],
   "source": [
    "?@fastmath"
   ]
  },
  {
   "cell_type": "code",
   "execution_count": 6,
   "metadata": {},
   "outputs": [
    {
     "name": "stdout",
     "output_type": "stream",
     "text": [
      "\u001b[90m;  @ In[1]:8 within `g_fastmath'\u001b[39m\n",
      "\u001b[95mdefine\u001b[39m \u001b[36mi64\u001b[39m \u001b[93m@julia_g_fastmath_1456\u001b[39m\u001b[33m(\u001b[39m\u001b[36mi64\u001b[39m \u001b[95msignext\u001b[39m \u001b[0m%0\u001b[33m)\u001b[39m \u001b[33m{\u001b[39m\n",
      "\u001b[91mtop:\u001b[39m\n",
      "\u001b[90m;  @ In[1]:10 within `g_fastmath'\u001b[39m\n",
      "\u001b[90m; ┌ @ fastmath.jl:270 within `mul_fast'\u001b[39m\n",
      "\u001b[90m; │┌ @ int.jl:88 within `*'\u001b[39m\n",
      "    \u001b[0m%1 \u001b[0m= \u001b[96m\u001b[1mmul\u001b[22m\u001b[39m \u001b[36mi64\u001b[39m \u001b[0m%0\u001b[0m, \u001b[33m9765625\u001b[39m\n",
      "\u001b[90m; └└\u001b[39m\n",
      "\u001b[90m; ┌ @ fastmath.jl:270 within `sub_fast'\u001b[39m\n",
      "\u001b[90m; │┌ @ int.jl:86 within `-'\u001b[39m\n",
      "    \u001b[0m%2 \u001b[0m= \u001b[96m\u001b[1madd\u001b[22m\u001b[39m \u001b[36mi64\u001b[39m \u001b[0m%1\u001b[0m, \u001b[33m-2441406\u001b[39m\n",
      "\u001b[90m; └└\u001b[39m\n",
      "\u001b[90m;  @ In[1]:12 within `g_fastmath'\u001b[39m\n",
      "  \u001b[96m\u001b[1mret\u001b[22m\u001b[39m \u001b[36mi64\u001b[39m \u001b[0m%2\n",
      "\u001b[33m}\u001b[39m\n"
     ]
    }
   ],
   "source": [
    "@code_llvm g_fastmath(2)"
   ]
  },
  {
   "cell_type": "code",
   "execution_count": 7,
   "metadata": {},
   "outputs": [
    {
     "name": "stdout",
     "output_type": "stream",
     "text": [
      "\u001b[90m;  @ In[1]:8 within `g_fastmath'\u001b[39m\n",
      "\u001b[95mdefine\u001b[39m \u001b[36mdouble\u001b[39m \u001b[93m@julia_g_fastmath_1458\u001b[39m\u001b[33m(\u001b[39m\u001b[36mdouble\u001b[39m \u001b[0m%0\u001b[33m)\u001b[39m \u001b[33m{\u001b[39m\n",
      "\u001b[91mtop:\u001b[39m\n",
      "\u001b[90m;  @ In[1]:10 within `g_fastmath'\u001b[39m\n",
      "\u001b[90m; ┌ @ fastmath.jl:267 within `mul_fast' @ fastmath.jl:167\u001b[39m\n",
      "   \u001b[0m%1 \u001b[0m= \u001b[96m\u001b[1mfmul\u001b[22m\u001b[39m \u001b[95mfast\u001b[39m \u001b[36mdouble\u001b[39m \u001b[0m%0\u001b[0m, \u001b[33m0x4162A05F20000000\u001b[39m\n",
      "\u001b[90m; └\u001b[39m\n",
      "\u001b[90m; ┌ @ fastmath.jl:267 within `sub_fast' @ fastmath.jl:166\u001b[39m\n",
      "   \u001b[0m%2 \u001b[0m= \u001b[96m\u001b[1mfadd\u001b[22m\u001b[39m \u001b[95mfast\u001b[39m \u001b[36mdouble\u001b[39m \u001b[0m%1\u001b[0m, \u001b[33m0xC142A05F00000000\u001b[39m\n",
      "\u001b[90m; └\u001b[39m\n",
      "\u001b[90m;  @ In[1]:12 within `g_fastmath'\u001b[39m\n",
      "  \u001b[96m\u001b[1mret\u001b[22m\u001b[39m \u001b[36mdouble\u001b[39m \u001b[0m%2\n",
      "\u001b[33m}\u001b[39m\n"
     ]
    }
   ],
   "source": [
    "@code_llvm g_fastmath(2.0)"
   ]
  },
  {
   "cell_type": "markdown",
   "metadata": {},
   "source": [
    "`@fastmath`: It \"executes a transformed version of the expression\", thus avoiding unnessary loops in our case. "
   ]
  },
  {
   "cell_type": "markdown",
   "metadata": {},
   "source": [
    "## Q4\n",
    "\n",
    "Create the vector `x = (0.988, 0.989, 0.990, ..., 1.010, 1.011, 1.012)`.   \n",
    "\n",
    "1. Plot the polynomial `y = x^7 - 7x^6 + 21x^5 - 35x^4 + 35x^3 - 21x^2 + 7x - 1` at points `x`.  \n",
    "\n",
    "2. Plot the polynomial `y = (x - 1)^7` at points `x`.  \n",
    "\n",
    "3. Explain what you found."
   ]
  },
  {
   "cell_type": "markdown",
   "metadata": {},
   "source": [
    "## Sol Q4"
   ]
  },
  {
   "cell_type": "code",
   "execution_count": 27,
   "metadata": {},
   "outputs": [
    {
     "name": "stderr",
     "output_type": "stream",
     "text": [
      "┌ Info: Precompiling Gadfly [c91e804a-d5a3-530f-b6f0-dfbca275c004]\n",
      "└ @ Base loading.jl:1317\n"
     ]
    },
    {
     "data": {
      "text/plain": [
       "1-element Vector{StepRangeLen{Float64, Base.TwicePrecision{Float64}, Base.TwicePrecision{Float64}}}:\n",
       " 0.988:0.001:1.012"
      ]
     },
     "execution_count": 27,
     "metadata": {},
     "output_type": "execute_result"
    }
   ],
   "source": [
    "using Plots, Gadfly\n",
    "\n",
    "x = [0.988:0.001:1.012]"
   ]
  },
  {
   "cell_type": "markdown",
   "metadata": {},
   "source": [
    "1."
   ]
  },
  {
   "cell_type": "code",
   "execution_count": 31,
   "metadata": {},
   "outputs": [
    {
     "data": {
      "image/svg+xml": [
       "<?xml version=\"1.0\" encoding=\"utf-8\"?>\n",
       "<svg xmlns=\"http://www.w3.org/2000/svg\" xmlns:xlink=\"http://www.w3.org/1999/xlink\" width=\"600\" height=\"400\" viewBox=\"0 0 2400 1600\">\n",
       "<defs>\n",
       "  <clipPath id=\"clip600\">\n",
       "    <rect x=\"0\" y=\"0\" width=\"2400\" height=\"1600\"/>\n",
       "  </clipPath>\n",
       "</defs>\n",
       "<path clip-path=\"url(#clip600)\" d=\"\n",
       "M0 1600 L2400 1600 L2400 0 L0 0  Z\n",
       "  \" fill=\"#ffffff\" fill-rule=\"evenodd\" fill-opacity=\"1\"/>\n",
       "<defs>\n",
       "  <clipPath id=\"clip601\">\n",
       "    <rect x=\"480\" y=\"0\" width=\"1681\" height=\"1600\"/>\n",
       "  </clipPath>\n",
       "</defs>\n",
       "<path clip-path=\"url(#clip600)\" d=\"\n",
       "M224.098 1486.45 L2352.76 1486.45 L2352.76 47.2441 L224.098 47.2441  Z\n",
       "  \" fill=\"#ffffff\" fill-rule=\"evenodd\" fill-opacity=\"1\"/>\n",
       "<defs>\n",
       "  <clipPath id=\"clip602\">\n",
       "    <rect x=\"224\" y=\"47\" width=\"2130\" height=\"1440\"/>\n",
       "  </clipPath>\n",
       "</defs>\n",
       "<polyline clip-path=\"url(#clip602)\" style=\"stroke:#000000; stroke-width:2; stroke-opacity:0.1; fill:none\" points=\"\n",
       "  224.098,1486.45 224.098,47.2441 \n",
       "  \"/>\n",
       "<polyline clip-path=\"url(#clip602)\" style=\"stroke:#000000; stroke-width:2; stroke-opacity:0.1; fill:none\" points=\"\n",
       "  756.262,1486.45 756.262,47.2441 \n",
       "  \"/>\n",
       "<polyline clip-path=\"url(#clip602)\" style=\"stroke:#000000; stroke-width:2; stroke-opacity:0.1; fill:none\" points=\"\n",
       "  1288.43,1486.45 1288.43,47.2441 \n",
       "  \"/>\n",
       "<polyline clip-path=\"url(#clip602)\" style=\"stroke:#000000; stroke-width:2; stroke-opacity:0.1; fill:none\" points=\"\n",
       "  1820.59,1486.45 1820.59,47.2441 \n",
       "  \"/>\n",
       "<polyline clip-path=\"url(#clip602)\" style=\"stroke:#000000; stroke-width:2; stroke-opacity:0.1; fill:none\" points=\"\n",
       "  2352.76,1486.45 2352.76,47.2441 \n",
       "  \"/>\n",
       "<polyline clip-path=\"url(#clip600)\" style=\"stroke:#000000; stroke-width:4; stroke-opacity:1; fill:none\" points=\"\n",
       "  224.098,1486.45 2352.76,1486.45 \n",
       "  \"/>\n",
       "<polyline clip-path=\"url(#clip600)\" style=\"stroke:#000000; stroke-width:4; stroke-opacity:1; fill:none\" points=\"\n",
       "  224.098,1486.45 224.098,1469.18 \n",
       "  \"/>\n",
       "<polyline clip-path=\"url(#clip600)\" style=\"stroke:#000000; stroke-width:4; stroke-opacity:1; fill:none\" points=\"\n",
       "  756.262,1486.45 756.262,1469.18 \n",
       "  \"/>\n",
       "<polyline clip-path=\"url(#clip600)\" style=\"stroke:#000000; stroke-width:4; stroke-opacity:1; fill:none\" points=\"\n",
       "  1288.43,1486.45 1288.43,1469.18 \n",
       "  \"/>\n",
       "<polyline clip-path=\"url(#clip600)\" style=\"stroke:#000000; stroke-width:4; stroke-opacity:1; fill:none\" points=\"\n",
       "  1820.59,1486.45 1820.59,1469.18 \n",
       "  \"/>\n",
       "<polyline clip-path=\"url(#clip600)\" style=\"stroke:#000000; stroke-width:4; stroke-opacity:1; fill:none\" points=\"\n",
       "  2352.76,1486.45 2352.76,1469.18 \n",
       "  \"/>\n",
       "<path clip-path=\"url(#clip600)\" d=\"M 0 0 M224.098 1515.64 Q220.487 1515.64 218.658 1519.2 Q216.853 1522.75 216.853 1529.87 Q216.853 1536.98 218.658 1540.55 Q220.487 1544.09 224.098 1544.09 Q227.732 1544.09 229.538 1540.55 Q231.366 1536.98 231.366 1529.87 Q231.366 1522.75 229.538 1519.2 Q227.732 1515.64 224.098 1515.64 M224.098 1511.93 Q229.908 1511.93 232.964 1516.54 Q236.042 1521.12 236.042 1529.87 Q236.042 1538.6 232.964 1543.21 Q229.908 1547.79 224.098 1547.79 Q218.288 1547.79 215.209 1543.21 Q212.153 1538.6 212.153 1529.87 Q212.153 1521.12 215.209 1516.54 Q218.288 1511.93 224.098 1511.93 Z\" fill=\"#000000\" fill-rule=\"evenodd\" fill-opacity=\"1\" /><path clip-path=\"url(#clip600)\" d=\"M 0 0 M746.54 1512.56 L764.897 1512.56 L764.897 1516.5 L750.823 1516.5 L750.823 1524.97 Q751.841 1524.62 752.86 1524.46 Q753.878 1524.27 754.897 1524.27 Q760.684 1524.27 764.063 1527.44 Q767.443 1530.62 767.443 1536.03 Q767.443 1541.61 763.971 1544.71 Q760.498 1547.79 754.179 1547.79 Q752.003 1547.79 749.735 1547.42 Q747.489 1547.05 745.082 1546.31 L745.082 1541.61 Q747.165 1542.74 749.387 1543.3 Q751.61 1543.86 754.086 1543.86 Q758.091 1543.86 760.429 1541.75 Q762.767 1539.64 762.767 1536.03 Q762.767 1532.42 760.429 1530.31 Q758.091 1528.21 754.086 1528.21 Q752.211 1528.21 750.336 1528.62 Q748.485 1529.04 746.54 1529.92 L746.54 1512.56 Z\" fill=\"#000000\" fill-rule=\"evenodd\" fill-opacity=\"1\" /><path clip-path=\"url(#clip600)\" d=\"M 0 0 M1263.11 1543.18 L1270.75 1543.18 L1270.75 1516.82 L1262.44 1518.49 L1262.44 1514.23 L1270.71 1512.56 L1275.38 1512.56 L1275.38 1543.18 L1283.02 1543.18 L1283.02 1547.12 L1263.11 1547.12 L1263.11 1543.18 Z\" fill=\"#000000\" fill-rule=\"evenodd\" fill-opacity=\"1\" /><path clip-path=\"url(#clip600)\" d=\"M 0 0 M1302.47 1515.64 Q1298.86 1515.64 1297.03 1519.2 Q1295.22 1522.75 1295.22 1529.87 Q1295.22 1536.98 1297.03 1540.55 Q1298.86 1544.09 1302.47 1544.09 Q1306.1 1544.09 1307.91 1540.55 Q1309.73 1536.98 1309.73 1529.87 Q1309.73 1522.75 1307.91 1519.2 Q1306.1 1515.64 1302.47 1515.64 M1302.47 1511.93 Q1308.28 1511.93 1311.33 1516.54 Q1314.41 1521.12 1314.41 1529.87 Q1314.41 1538.6 1311.33 1543.21 Q1308.28 1547.79 1302.47 1547.79 Q1296.66 1547.79 1293.58 1543.21 Q1290.52 1538.6 1290.52 1529.87 Q1290.52 1521.12 1293.58 1516.54 Q1296.66 1511.93 1302.47 1511.93 Z\" fill=\"#000000\" fill-rule=\"evenodd\" fill-opacity=\"1\" /><path clip-path=\"url(#clip600)\" d=\"M 0 0 M1795.78 1543.18 L1803.42 1543.18 L1803.42 1516.82 L1795.11 1518.49 L1795.11 1514.23 L1803.37 1512.56 L1808.05 1512.56 L1808.05 1543.18 L1815.68 1543.18 L1815.68 1547.12 L1795.78 1547.12 L1795.78 1543.18 Z\" fill=\"#000000\" fill-rule=\"evenodd\" fill-opacity=\"1\" /><path clip-path=\"url(#clip600)\" d=\"M 0 0 M1825.17 1512.56 L1843.53 1512.56 L1843.53 1516.5 L1829.46 1516.5 L1829.46 1524.97 Q1830.48 1524.62 1831.49 1524.46 Q1832.51 1524.27 1833.53 1524.27 Q1839.32 1524.27 1842.7 1527.44 Q1846.08 1530.62 1846.08 1536.03 Q1846.08 1541.61 1842.61 1544.71 Q1839.13 1547.79 1832.81 1547.79 Q1830.64 1547.79 1828.37 1547.42 Q1826.12 1547.05 1823.72 1546.31 L1823.72 1541.61 Q1825.8 1542.74 1828.02 1543.3 Q1830.24 1543.86 1832.72 1543.86 Q1836.73 1543.86 1839.06 1541.75 Q1841.4 1539.64 1841.4 1536.03 Q1841.4 1532.42 1839.06 1530.31 Q1836.73 1528.21 1832.72 1528.21 Q1830.85 1528.21 1828.97 1528.62 Q1827.12 1529.04 1825.17 1529.92 L1825.17 1512.56 Z\" fill=\"#000000\" fill-rule=\"evenodd\" fill-opacity=\"1\" /><path clip-path=\"url(#clip600)\" d=\"M 0 0 M2331.53 1543.18 L2347.85 1543.18 L2347.85 1547.12 L2325.9 1547.12 L2325.9 1543.18 Q2328.57 1540.43 2333.15 1535.8 Q2337.76 1531.15 2338.94 1529.81 Q2341.18 1527.28 2342.06 1525.55 Q2342.96 1523.79 2342.96 1522.1 Q2342.96 1519.34 2341.02 1517.61 Q2339.1 1515.87 2336 1515.87 Q2333.8 1515.87 2331.34 1516.63 Q2328.91 1517.4 2326.14 1518.95 L2326.14 1514.23 Q2328.96 1513.09 2331.41 1512.51 Q2333.87 1511.93 2335.9 1511.93 Q2341.27 1511.93 2344.47 1514.62 Q2347.66 1517.31 2347.66 1521.8 Q2347.66 1523.93 2346.85 1525.85 Q2346.07 1527.74 2343.96 1530.34 Q2343.38 1531.01 2340.28 1534.23 Q2337.18 1537.42 2331.53 1543.18 Z\" fill=\"#000000\" fill-rule=\"evenodd\" fill-opacity=\"1\" /><path clip-path=\"url(#clip600)\" d=\"M 0 0 M2367.66 1515.64 Q2364.05 1515.64 2362.22 1519.2 Q2360.42 1522.75 2360.42 1529.87 Q2360.42 1536.98 2362.22 1540.55 Q2364.05 1544.09 2367.66 1544.09 Q2371.3 1544.09 2373.1 1540.55 Q2374.93 1536.98 2374.93 1529.87 Q2374.93 1522.75 2373.1 1519.2 Q2371.3 1515.64 2367.66 1515.64 M2367.66 1511.93 Q2373.47 1511.93 2376.53 1516.54 Q2379.61 1521.12 2379.61 1529.87 Q2379.61 1538.6 2376.53 1543.21 Q2373.47 1547.79 2367.66 1547.79 Q2361.85 1547.79 2358.77 1543.21 Q2355.72 1538.6 2355.72 1529.87 Q2355.72 1521.12 2358.77 1516.54 Q2361.85 1511.93 2367.66 1511.93 Z\" fill=\"#000000\" fill-rule=\"evenodd\" fill-opacity=\"1\" /><polyline clip-path=\"url(#clip602)\" style=\"stroke:#000000; stroke-width:2; stroke-opacity:0.1; fill:none\" points=\"\n",
       "  224.098,1486.45 2352.76,1486.45 \n",
       "  \"/>\n",
       "<polyline clip-path=\"url(#clip602)\" style=\"stroke:#000000; stroke-width:2; stroke-opacity:0.1; fill:none\" points=\"\n",
       "  224.098,1246.58 2352.76,1246.58 \n",
       "  \"/>\n",
       "<polyline clip-path=\"url(#clip602)\" style=\"stroke:#000000; stroke-width:2; stroke-opacity:0.1; fill:none\" points=\"\n",
       "  224.098,1006.71 2352.76,1006.71 \n",
       "  \"/>\n",
       "<polyline clip-path=\"url(#clip602)\" style=\"stroke:#000000; stroke-width:2; stroke-opacity:0.1; fill:none\" points=\"\n",
       "  224.098,766.846 2352.76,766.846 \n",
       "  \"/>\n",
       "<polyline clip-path=\"url(#clip602)\" style=\"stroke:#000000; stroke-width:2; stroke-opacity:0.1; fill:none\" points=\"\n",
       "  224.098,526.979 2352.76,526.979 \n",
       "  \"/>\n",
       "<polyline clip-path=\"url(#clip602)\" style=\"stroke:#000000; stroke-width:2; stroke-opacity:0.1; fill:none\" points=\"\n",
       "  224.098,287.111 2352.76,287.111 \n",
       "  \"/>\n",
       "<polyline clip-path=\"url(#clip602)\" style=\"stroke:#000000; stroke-width:2; stroke-opacity:0.1; fill:none\" points=\"\n",
       "  224.098,47.2441 2352.76,47.2441 \n",
       "  \"/>\n",
       "<polyline clip-path=\"url(#clip600)\" style=\"stroke:#000000; stroke-width:4; stroke-opacity:1; fill:none\" points=\"\n",
       "  224.098,1486.45 224.098,47.2441 \n",
       "  \"/>\n",
       "<polyline clip-path=\"url(#clip600)\" style=\"stroke:#000000; stroke-width:4; stroke-opacity:1; fill:none\" points=\"\n",
       "  224.098,1486.45 249.642,1486.45 \n",
       "  \"/>\n",
       "<polyline clip-path=\"url(#clip600)\" style=\"stroke:#000000; stroke-width:4; stroke-opacity:1; fill:none\" points=\"\n",
       "  224.098,1246.58 249.642,1246.58 \n",
       "  \"/>\n",
       "<polyline clip-path=\"url(#clip600)\" style=\"stroke:#000000; stroke-width:4; stroke-opacity:1; fill:none\" points=\"\n",
       "  224.098,1006.71 249.642,1006.71 \n",
       "  \"/>\n",
       "<polyline clip-path=\"url(#clip600)\" style=\"stroke:#000000; stroke-width:4; stroke-opacity:1; fill:none\" points=\"\n",
       "  224.098,766.846 249.642,766.846 \n",
       "  \"/>\n",
       "<polyline clip-path=\"url(#clip600)\" style=\"stroke:#000000; stroke-width:4; stroke-opacity:1; fill:none\" points=\"\n",
       "  224.098,526.979 249.642,526.979 \n",
       "  \"/>\n",
       "<polyline clip-path=\"url(#clip600)\" style=\"stroke:#000000; stroke-width:4; stroke-opacity:1; fill:none\" points=\"\n",
       "  224.098,287.111 249.642,287.111 \n",
       "  \"/>\n",
       "<polyline clip-path=\"url(#clip600)\" style=\"stroke:#000000; stroke-width:4; stroke-opacity:1; fill:none\" points=\"\n",
       "  224.098,47.2441 249.642,47.2441 \n",
       "  \"/>\n",
       "<path clip-path=\"url(#clip600)\" d=\"M 0 0 M51.9875 1486.9 L81.6633 1486.9 L81.6633 1490.83 L51.9875 1490.83 L51.9875 1486.9 Z\" fill=\"#000000\" fill-rule=\"evenodd\" fill-opacity=\"1\" /><path clip-path=\"url(#clip600)\" d=\"M 0 0 M101.756 1472.25 Q98.1447 1472.25 96.316 1475.81 Q94.5104 1479.35 94.5104 1486.48 Q94.5104 1493.59 96.316 1497.15 Q98.1447 1500.7 101.756 1500.7 Q105.39 1500.7 107.196 1497.15 Q109.024 1493.59 109.024 1486.48 Q109.024 1479.35 107.196 1475.81 Q105.39 1472.25 101.756 1472.25 M101.756 1468.54 Q107.566 1468.54 110.621 1473.15 Q113.7 1477.73 113.7 1486.48 Q113.7 1495.21 110.621 1499.82 Q107.566 1504.4 101.756 1504.4 Q95.9456 1504.4 92.8669 1499.82 Q89.8114 1495.21 89.8114 1486.48 Q89.8114 1477.73 92.8669 1473.15 Q95.9456 1468.54 101.756 1468.54 Z\" fill=\"#000000\" fill-rule=\"evenodd\" fill-opacity=\"1\" /><path clip-path=\"url(#clip600)\" d=\"M 0 0 M121.918 1497.85 L126.802 1497.85 L126.802 1503.73 L121.918 1503.73 L121.918 1497.85 Z\" fill=\"#000000\" fill-rule=\"evenodd\" fill-opacity=\"1\" /><path clip-path=\"url(#clip600)\" d=\"M 0 0 M135.806 1469.17 L158.029 1469.17 L158.029 1471.16 L145.482 1503.73 L140.598 1503.73 L152.404 1473.1 L135.806 1473.1 L135.806 1469.17 Z\" fill=\"#000000\" fill-rule=\"evenodd\" fill-opacity=\"1\" /><path clip-path=\"url(#clip600)\" d=\"M 0 0 M167.195 1469.17 L185.552 1469.17 L185.552 1473.1 L171.478 1473.1 L171.478 1481.58 Q172.496 1481.23 173.515 1481.07 Q174.533 1480.88 175.552 1480.88 Q181.339 1480.88 184.718 1484.05 Q188.098 1487.22 188.098 1492.64 Q188.098 1498.22 184.626 1501.32 Q181.153 1504.4 174.834 1504.4 Q172.658 1504.4 170.39 1504.03 Q168.144 1503.66 165.737 1502.92 L165.737 1498.22 Q167.82 1499.35 170.042 1499.91 Q172.265 1500.46 174.741 1500.46 Q178.746 1500.46 181.084 1498.36 Q183.422 1496.25 183.422 1492.64 Q183.422 1489.03 181.084 1486.92 Q178.746 1484.82 174.741 1484.82 Q172.866 1484.82 170.991 1485.23 Q169.14 1485.65 167.195 1486.53 L167.195 1469.17 Z\" fill=\"#000000\" fill-rule=\"evenodd\" fill-opacity=\"1\" /><path clip-path=\"url(#clip600)\" d=\"M 0 0 M50.9921 1247.03 L80.6679 1247.03 L80.6679 1250.97 L50.9921 1250.97 L50.9921 1247.03 Z\" fill=\"#000000\" fill-rule=\"evenodd\" fill-opacity=\"1\" /><path clip-path=\"url(#clip600)\" d=\"M 0 0 M100.76 1232.38 Q97.1493 1232.38 95.3206 1235.94 Q93.515 1239.49 93.515 1246.62 Q93.515 1253.72 95.3206 1257.29 Q97.1493 1260.83 100.76 1260.83 Q104.395 1260.83 106.2 1257.29 Q108.029 1253.72 108.029 1246.62 Q108.029 1239.49 106.2 1235.94 Q104.395 1232.38 100.76 1232.38 M100.76 1228.68 Q106.571 1228.68 109.626 1233.28 Q112.705 1237.87 112.705 1246.62 Q112.705 1255.34 109.626 1259.95 Q106.571 1264.53 100.76 1264.53 Q94.9502 1264.53 91.8715 1259.95 Q88.816 1255.34 88.816 1246.62 Q88.816 1237.87 91.8715 1233.28 Q94.9502 1228.68 100.76 1228.68 Z\" fill=\"#000000\" fill-rule=\"evenodd\" fill-opacity=\"1\" /><path clip-path=\"url(#clip600)\" d=\"M 0 0 M120.922 1257.98 L125.807 1257.98 L125.807 1263.86 L120.922 1263.86 L120.922 1257.98 Z\" fill=\"#000000\" fill-rule=\"evenodd\" fill-opacity=\"1\" /><path clip-path=\"url(#clip600)\" d=\"M 0 0 M136.038 1229.3 L154.394 1229.3 L154.394 1233.24 L140.32 1233.24 L140.32 1241.71 Q141.339 1241.36 142.357 1241.2 Q143.376 1241.01 144.394 1241.01 Q150.181 1241.01 153.561 1244.18 Q156.941 1247.36 156.941 1252.77 Q156.941 1258.35 153.468 1261.45 Q149.996 1264.53 143.677 1264.53 Q141.501 1264.53 139.232 1264.16 Q136.987 1263.79 134.58 1263.05 L134.58 1258.35 Q136.663 1259.49 138.885 1260.04 Q141.107 1260.6 143.584 1260.6 Q147.589 1260.6 149.927 1258.49 Q152.265 1256.38 152.265 1252.77 Q152.265 1249.16 149.927 1247.06 Q147.589 1244.95 143.584 1244.95 Q141.709 1244.95 139.834 1245.37 Q137.982 1245.78 136.038 1246.66 L136.038 1229.3 Z\" fill=\"#000000\" fill-rule=\"evenodd\" fill-opacity=\"1\" /><path clip-path=\"url(#clip600)\" d=\"M 0 0 M176.153 1232.38 Q172.542 1232.38 170.714 1235.94 Q168.908 1239.49 168.908 1246.62 Q168.908 1253.72 170.714 1257.29 Q172.542 1260.83 176.153 1260.83 Q179.788 1260.83 181.593 1257.29 Q183.422 1253.72 183.422 1246.62 Q183.422 1239.49 181.593 1235.94 Q179.788 1232.38 176.153 1232.38 M176.153 1228.68 Q181.964 1228.68 185.019 1233.28 Q188.098 1237.87 188.098 1246.62 Q188.098 1255.34 185.019 1259.95 Q181.964 1264.53 176.153 1264.53 Q170.343 1264.53 167.265 1259.95 Q164.209 1255.34 164.209 1246.62 Q164.209 1237.87 167.265 1233.28 Q170.343 1228.68 176.153 1228.68 Z\" fill=\"#000000\" fill-rule=\"evenodd\" fill-opacity=\"1\" /><path clip-path=\"url(#clip600)\" d=\"M 0 0 M51.9875 1007.16 L81.6633 1007.16 L81.6633 1011.1 L51.9875 1011.1 L51.9875 1007.16 Z\" fill=\"#000000\" fill-rule=\"evenodd\" fill-opacity=\"1\" /><path clip-path=\"url(#clip600)\" d=\"M 0 0 M101.756 992.512 Q98.1447 992.512 96.316 996.077 Q94.5104 999.618 94.5104 1006.75 Q94.5104 1013.85 96.316 1017.42 Q98.1447 1020.96 101.756 1020.96 Q105.39 1020.96 107.196 1017.42 Q109.024 1013.85 109.024 1006.75 Q109.024 999.618 107.196 996.077 Q105.39 992.512 101.756 992.512 M101.756 988.808 Q107.566 988.808 110.621 993.415 Q113.7 997.998 113.7 1006.75 Q113.7 1015.47 110.621 1020.08 Q107.566 1024.66 101.756 1024.66 Q95.9456 1024.66 92.8669 1020.08 Q89.8114 1015.47 89.8114 1006.75 Q89.8114 997.998 92.8669 993.415 Q95.9456 988.808 101.756 988.808 Z\" fill=\"#000000\" fill-rule=\"evenodd\" fill-opacity=\"1\" /><path clip-path=\"url(#clip600)\" d=\"M 0 0 M121.918 1018.11 L126.802 1018.11 L126.802 1023.99 L121.918 1023.99 L121.918 1018.11 Z\" fill=\"#000000\" fill-rule=\"evenodd\" fill-opacity=\"1\" /><path clip-path=\"url(#clip600)\" d=\"M 0 0 M141.015 1020.06 L157.334 1020.06 L157.334 1023.99 L135.39 1023.99 L135.39 1020.06 Q138.052 1017.3 142.635 1012.67 Q147.242 1008.02 148.422 1006.68 Q150.668 1004.16 151.547 1002.42 Q152.45 1000.66 152.45 998.97 Q152.45 996.216 150.505 994.48 Q148.584 992.743 145.482 992.743 Q143.283 992.743 140.83 993.507 Q138.399 994.271 135.621 995.822 L135.621 991.1 Q138.445 989.966 140.899 989.387 Q143.353 988.808 145.39 988.808 Q150.76 988.808 153.955 991.493 Q157.149 994.179 157.149 998.669 Q157.149 1000.8 156.339 1002.72 Q155.552 1004.62 153.445 1007.21 Q152.867 1007.88 149.765 1011.1 Q146.663 1014.29 141.015 1020.06 Z\" fill=\"#000000\" fill-rule=\"evenodd\" fill-opacity=\"1\" /><path clip-path=\"url(#clip600)\" d=\"M 0 0 M167.195 989.433 L185.552 989.433 L185.552 993.368 L171.478 993.368 L171.478 1001.84 Q172.496 1001.49 173.515 1001.33 Q174.533 1001.15 175.552 1001.15 Q181.339 1001.15 184.718 1004.32 Q188.098 1007.49 188.098 1012.91 Q188.098 1018.48 184.626 1021.59 Q181.153 1024.66 174.834 1024.66 Q172.658 1024.66 170.39 1024.29 Q168.144 1023.92 165.737 1023.18 L165.737 1018.48 Q167.82 1019.62 170.042 1020.17 Q172.265 1020.73 174.741 1020.73 Q178.746 1020.73 181.084 1018.62 Q183.422 1016.52 183.422 1012.91 Q183.422 1009.29 181.084 1007.19 Q178.746 1005.08 174.741 1005.08 Q172.866 1005.08 170.991 1005.5 Q169.14 1005.91 167.195 1006.79 L167.195 989.433 Z\" fill=\"#000000\" fill-rule=\"evenodd\" fill-opacity=\"1\" /><path clip-path=\"url(#clip600)\" d=\"M 0 0 M100.76 752.645 Q97.1493 752.645 95.3206 756.209 Q93.515 759.751 93.515 766.881 Q93.515 773.987 95.3206 777.552 Q97.1493 781.094 100.76 781.094 Q104.395 781.094 106.2 777.552 Q108.029 773.987 108.029 766.881 Q108.029 759.751 106.2 756.209 Q104.395 752.645 100.76 752.645 M100.76 748.941 Q106.571 748.941 109.626 753.547 Q112.705 758.131 112.705 766.881 Q112.705 775.608 109.626 780.214 Q106.571 784.797 100.76 784.797 Q94.9502 784.797 91.8715 780.214 Q88.816 775.608 88.816 766.881 Q88.816 758.131 91.8715 753.547 Q94.9502 748.941 100.76 748.941 Z\" fill=\"#000000\" fill-rule=\"evenodd\" fill-opacity=\"1\" /><path clip-path=\"url(#clip600)\" d=\"M 0 0 M120.922 778.246 L125.807 778.246 L125.807 784.126 L120.922 784.126 L120.922 778.246 Z\" fill=\"#000000\" fill-rule=\"evenodd\" fill-opacity=\"1\" /><path clip-path=\"url(#clip600)\" d=\"M 0 0 M145.992 752.645 Q142.381 752.645 140.552 756.209 Q138.746 759.751 138.746 766.881 Q138.746 773.987 140.552 777.552 Q142.381 781.094 145.992 781.094 Q149.626 781.094 151.431 777.552 Q153.26 773.987 153.26 766.881 Q153.26 759.751 151.431 756.209 Q149.626 752.645 145.992 752.645 M145.992 748.941 Q151.802 748.941 154.857 753.547 Q157.936 758.131 157.936 766.881 Q157.936 775.608 154.857 780.214 Q151.802 784.797 145.992 784.797 Q140.181 784.797 137.103 780.214 Q134.047 775.608 134.047 766.881 Q134.047 758.131 137.103 753.547 Q140.181 748.941 145.992 748.941 Z\" fill=\"#000000\" fill-rule=\"evenodd\" fill-opacity=\"1\" /><path clip-path=\"url(#clip600)\" d=\"M 0 0 M176.153 752.645 Q172.542 752.645 170.714 756.209 Q168.908 759.751 168.908 766.881 Q168.908 773.987 170.714 777.552 Q172.542 781.094 176.153 781.094 Q179.788 781.094 181.593 777.552 Q183.422 773.987 183.422 766.881 Q183.422 759.751 181.593 756.209 Q179.788 752.645 176.153 752.645 M176.153 748.941 Q181.964 748.941 185.019 753.547 Q188.098 758.131 188.098 766.881 Q188.098 775.608 185.019 780.214 Q181.964 784.797 176.153 784.797 Q170.343 784.797 167.265 780.214 Q164.209 775.608 164.209 766.881 Q164.209 758.131 167.265 753.547 Q170.343 748.941 176.153 748.941 Z\" fill=\"#000000\" fill-rule=\"evenodd\" fill-opacity=\"1\" /><path clip-path=\"url(#clip600)\" d=\"M 0 0 M101.756 512.777 Q98.1447 512.777 96.316 516.342 Q94.5104 519.884 94.5104 527.013 Q94.5104 534.12 96.316 537.685 Q98.1447 541.226 101.756 541.226 Q105.39 541.226 107.196 537.685 Q109.024 534.12 109.024 527.013 Q109.024 519.884 107.196 516.342 Q105.39 512.777 101.756 512.777 M101.756 509.074 Q107.566 509.074 110.621 513.68 Q113.7 518.263 113.7 527.013 Q113.7 535.74 110.621 540.347 Q107.566 544.93 101.756 544.93 Q95.9456 544.93 92.8669 540.347 Q89.8114 535.74 89.8114 527.013 Q89.8114 518.263 92.8669 513.68 Q95.9456 509.074 101.756 509.074 Z\" fill=\"#000000\" fill-rule=\"evenodd\" fill-opacity=\"1\" /><path clip-path=\"url(#clip600)\" d=\"M 0 0 M121.918 538.379 L126.802 538.379 L126.802 544.259 L121.918 544.259 L121.918 538.379 Z\" fill=\"#000000\" fill-rule=\"evenodd\" fill-opacity=\"1\" /><path clip-path=\"url(#clip600)\" d=\"M 0 0 M141.015 540.324 L157.334 540.324 L157.334 544.259 L135.39 544.259 L135.39 540.324 Q138.052 537.569 142.635 532.939 Q147.242 528.287 148.422 526.944 Q150.668 524.421 151.547 522.685 Q152.45 520.925 152.45 519.236 Q152.45 516.481 150.505 514.745 Q148.584 513.009 145.482 513.009 Q143.283 513.009 140.83 513.773 Q138.399 514.537 135.621 516.088 L135.621 511.365 Q138.445 510.231 140.899 509.652 Q143.353 509.074 145.39 509.074 Q150.76 509.074 153.955 511.759 Q157.149 514.444 157.149 518.935 Q157.149 521.064 156.339 522.986 Q155.552 524.884 153.445 527.476 Q152.867 528.148 149.765 531.365 Q146.663 534.56 141.015 540.324 Z\" fill=\"#000000\" fill-rule=\"evenodd\" fill-opacity=\"1\" /><path clip-path=\"url(#clip600)\" d=\"M 0 0 M167.195 509.699 L185.552 509.699 L185.552 513.634 L171.478 513.634 L171.478 522.106 Q172.496 521.759 173.515 521.597 Q174.533 521.412 175.552 521.412 Q181.339 521.412 184.718 524.583 Q188.098 527.754 188.098 533.171 Q188.098 538.749 184.626 541.851 Q181.153 544.93 174.834 544.93 Q172.658 544.93 170.39 544.56 Q168.144 544.189 165.737 543.449 L165.737 538.749 Q167.82 539.884 170.042 540.439 Q172.265 540.995 174.741 540.995 Q178.746 540.995 181.084 538.888 Q183.422 536.782 183.422 533.171 Q183.422 529.56 181.084 527.453 Q178.746 525.347 174.741 525.347 Q172.866 525.347 170.991 525.763 Q169.14 526.18 167.195 527.06 L167.195 509.699 Z\" fill=\"#000000\" fill-rule=\"evenodd\" fill-opacity=\"1\" /><path clip-path=\"url(#clip600)\" d=\"M 0 0 M100.76 272.91 Q97.1493 272.91 95.3206 276.475 Q93.515 280.017 93.515 287.146 Q93.515 294.253 95.3206 297.817 Q97.1493 301.359 100.76 301.359 Q104.395 301.359 106.2 297.817 Q108.029 294.253 108.029 287.146 Q108.029 280.017 106.2 276.475 Q104.395 272.91 100.76 272.91 M100.76 269.206 Q106.571 269.206 109.626 273.813 Q112.705 278.396 112.705 287.146 Q112.705 295.873 109.626 300.479 Q106.571 305.063 100.76 305.063 Q94.9502 305.063 91.8715 300.479 Q88.816 295.873 88.816 287.146 Q88.816 278.396 91.8715 273.813 Q94.9502 269.206 100.76 269.206 Z\" fill=\"#000000\" fill-rule=\"evenodd\" fill-opacity=\"1\" /><path clip-path=\"url(#clip600)\" d=\"M 0 0 M120.922 298.512 L125.807 298.512 L125.807 304.391 L120.922 304.391 L120.922 298.512 Z\" fill=\"#000000\" fill-rule=\"evenodd\" fill-opacity=\"1\" /><path clip-path=\"url(#clip600)\" d=\"M 0 0 M136.038 269.831 L154.394 269.831 L154.394 273.767 L140.32 273.767 L140.32 282.239 Q141.339 281.892 142.357 281.729 Q143.376 281.544 144.394 281.544 Q150.181 281.544 153.561 284.716 Q156.941 287.887 156.941 293.303 Q156.941 298.882 153.468 301.984 Q149.996 305.063 143.677 305.063 Q141.501 305.063 139.232 304.692 Q136.987 304.322 134.58 303.581 L134.58 298.882 Q136.663 300.016 138.885 300.572 Q141.107 301.128 143.584 301.128 Q147.589 301.128 149.927 299.021 Q152.265 296.915 152.265 293.303 Q152.265 289.692 149.927 287.586 Q147.589 285.479 143.584 285.479 Q141.709 285.479 139.834 285.896 Q137.982 286.313 136.038 287.192 L136.038 269.831 Z\" fill=\"#000000\" fill-rule=\"evenodd\" fill-opacity=\"1\" /><path clip-path=\"url(#clip600)\" d=\"M 0 0 M176.153 272.91 Q172.542 272.91 170.714 276.475 Q168.908 280.017 168.908 287.146 Q168.908 294.253 170.714 297.817 Q172.542 301.359 176.153 301.359 Q179.788 301.359 181.593 297.817 Q183.422 294.253 183.422 287.146 Q183.422 280.017 181.593 276.475 Q179.788 272.91 176.153 272.91 M176.153 269.206 Q181.964 269.206 185.019 273.813 Q188.098 278.396 188.098 287.146 Q188.098 295.873 185.019 300.479 Q181.964 305.063 176.153 305.063 Q170.343 305.063 167.265 300.479 Q164.209 295.873 164.209 287.146 Q164.209 278.396 167.265 273.813 Q170.343 269.206 176.153 269.206 Z\" fill=\"#000000\" fill-rule=\"evenodd\" fill-opacity=\"1\" /><path clip-path=\"url(#clip600)\" d=\"M 0 0 M101.756 33.0428 Q98.1447 33.0428 96.316 36.6076 Q94.5104 40.1492 94.5104 47.2788 Q94.5104 54.3853 96.316 57.9501 Q98.1447 61.4917 101.756 61.4917 Q105.39 61.4917 107.196 57.9501 Q109.024 54.3853 109.024 47.2788 Q109.024 40.1492 107.196 36.6076 Q105.39 33.0428 101.756 33.0428 M101.756 29.3391 Q107.566 29.3391 110.621 33.9456 Q113.7 38.5289 113.7 47.2788 Q113.7 56.0056 110.621 60.6121 Q107.566 65.1954 101.756 65.1954 Q95.9456 65.1954 92.8669 60.6121 Q89.8114 56.0056 89.8114 47.2788 Q89.8114 38.5289 92.8669 33.9456 Q95.9456 29.3391 101.756 29.3391 Z\" fill=\"#000000\" fill-rule=\"evenodd\" fill-opacity=\"1\" /><path clip-path=\"url(#clip600)\" d=\"M 0 0 M121.918 58.6445 L126.802 58.6445 L126.802 64.5241 L121.918 64.5241 L121.918 58.6445 Z\" fill=\"#000000\" fill-rule=\"evenodd\" fill-opacity=\"1\" /><path clip-path=\"url(#clip600)\" d=\"M 0 0 M135.806 29.9641 L158.029 29.9641 L158.029 31.9548 L145.482 64.5241 L140.598 64.5241 L152.404 33.8993 L135.806 33.8993 L135.806 29.9641 Z\" fill=\"#000000\" fill-rule=\"evenodd\" fill-opacity=\"1\" /><path clip-path=\"url(#clip600)\" d=\"M 0 0 M167.195 29.9641 L185.552 29.9641 L185.552 33.8993 L171.478 33.8993 L171.478 42.3714 Q172.496 42.0242 173.515 41.8622 Q174.533 41.677 175.552 41.677 Q181.339 41.677 184.718 44.8483 Q188.098 48.0196 188.098 53.4362 Q188.098 59.0149 184.626 62.1167 Q181.153 65.1954 174.834 65.1954 Q172.658 65.1954 170.39 64.825 Q168.144 64.4547 165.737 63.7139 L165.737 59.0149 Q167.82 60.1491 170.042 60.7047 Q172.265 61.2602 174.741 61.2602 Q178.746 61.2602 181.084 59.1538 Q183.422 57.0473 183.422 53.4362 Q183.422 49.8251 181.084 47.7186 Q178.746 45.6122 174.741 45.6122 Q172.866 45.6122 170.991 46.0288 Q169.14 46.4455 167.195 47.3251 L167.195 29.9641 Z\" fill=\"#000000\" fill-rule=\"evenodd\" fill-opacity=\"1\" /><polyline clip-path=\"url(#clip602)\" style=\"stroke:#009af9; stroke-width:4; stroke-opacity:1; fill:none\" points=\"\n",
       "  224.098,766.846 226.177,673.152 245.398,-186.85 256.95,-690.511 266.716,-1103.2 277.325,-1533.56 287.106,-1910.18 297.592,-2288.77 309.741,-2690.13 320.538,-3009.2 \n",
       "  330.005,-3257.14 340.328,-3491.15 350.711,-3686.16 362.192,-3852.42 373.115,-3960.78 384.473,-4020.69 394.034,-4028.9 405.707,-3986.51 416.679,-3894.57 434.258,-3644.7 \n",
       "  436.964,-3595.37 \n",
       "  \"/>\n",
       "<path clip-path=\"url(#clip600)\" d=\"\n",
       "M1992.85 216.178 L2281.8 216.178 L2281.8 95.2176 L1992.85 95.2176  Z\n",
       "  \" fill=\"#ffffff\" fill-rule=\"evenodd\" fill-opacity=\"1\"/>\n",
       "<polyline clip-path=\"url(#clip600)\" style=\"stroke:#000000; stroke-width:4; stroke-opacity:1; fill:none\" points=\"\n",
       "  1992.85,216.178 2281.8,216.178 2281.8,95.2176 1992.85,95.2176 1992.85,216.178 \n",
       "  \"/>\n",
       "<polyline clip-path=\"url(#clip600)\" style=\"stroke:#009af9; stroke-width:4; stroke-opacity:1; fill:none\" points=\"\n",
       "  2016.5,155.698 2158.42,155.698 \n",
       "  \"/>\n",
       "<path clip-path=\"url(#clip600)\" d=\"M 0 0 M2195.91 175.385 Q2194.1 180.015 2192.39 181.427 Q2190.68 182.839 2187.81 182.839 L2184.4 182.839 L2184.4 179.274 L2186.9 179.274 Q2188.66 179.274 2189.64 178.44 Q2190.61 177.607 2191.79 174.505 L2192.55 172.561 L2182.07 147.052 L2186.58 147.052 L2194.68 167.329 L2202.78 147.052 L2207.3 147.052 L2195.91 175.385 Z\" fill=\"#000000\" fill-rule=\"evenodd\" fill-opacity=\"1\" /><path clip-path=\"url(#clip600)\" d=\"M 0 0 M2214.59 169.042 L2222.23 169.042 L2222.23 142.677 L2213.92 144.343 L2213.92 140.084 L2222.18 138.418 L2226.86 138.418 L2226.86 169.042 L2234.5 169.042 L2234.5 172.978 L2214.59 172.978 L2214.59 169.042 Z\" fill=\"#000000\" fill-rule=\"evenodd\" fill-opacity=\"1\" /></svg>\n"
      ]
     },
     "execution_count": 31,
     "metadata": {},
     "output_type": "execute_result"
    }
   ],
   "source": []
  },
  {
   "cell_type": "code",
   "execution_count": null,
   "metadata": {},
   "outputs": [],
   "source": []
  },
  {
   "cell_type": "markdown",
   "metadata": {},
   "source": [
    "## Q5\n",
    "\n",
    "1. Show the **Sherman-Morrison formula**\n",
    "$$\n",
    "\t(\\mathbf{A} + \\mathbf{u} \\mathbf{u}^T)^{-1} = \\mathbf{A}^{-1} - \\frac{1}{1 + \\mathbf{u}^T \\mathbf{A}^{-1} \\mathbf{u}} \\mathbf{A}^{-1} \\mathbf{u} \\mathbf{u}^T \\mathbf{A}^{-1},\n",
    "$$\n",
    "where $\\mathbf{A} \\in \\mathbb{R}^{n \\times n}$ is nonsingular and $\\mathbf{u} \\in \\mathbb{R}^n$. This formula supplies the inverse of the symmetric, rank-one  perturbation of $\\mathbf{A}$.\n",
    "\n",
    "2. Show the **Woodbury formula**\n",
    "$$\n",
    "\t(\\mathbf{A} + \\mathbf{U} \\mathbf{V}^T)^{-1} = \\mathbf{A}^{-1} - \\mathbf{A}^{-1} \\mathbf{U} (\\mathbf{I}_m + \\mathbf{V}^T \\mathbf{A}^{-1} \\mathbf{U})^{-1} \\mathbf{V}^T \\mathbf{A}^{-1},\n",
    "$$\n",
    "where $\\mathbf{A} \\in \\mathbb{R}^{n \\times n}$ is nonsingular, $\\mathbf{U}, \\mathbf{V} \\in \\mathbb{R}^{n \\times m}$, and $\\mathbf{I}_m$ is the $m \\times m$ identity matrix. In many applications $m$ is much smaller than $n$. Woodbury formula generalizes Sherman-Morrison and is valuable because the smaller matrix $\\mathbf{I}_m + \\mathbf{V}^T \\mathbf{A}^{-1} \\mathbf{U}$ is cheaper to invert than the larger matrix $\\mathbf{A} + \\mathbf{U} \\mathbf{V}^T$.\n",
    "\n",
    "3. Show the **binomial inversion formula**\n",
    "$$\n",
    "\t(\\mathbf{A} + \\mathbf{U} \\mathbf{B} \\mathbf{V}^T)^{-1} = \\mathbf{A}^{-1} - \\mathbf{A}^{-1} \\mathbf{U} (\\mathbf{B}^{-1} + \\mathbf{V}^T \\mathbf{A}^{-1} \\mathbf{U})^{-1} \\mathbf{V}^T \\mathbf{A}^{-1},\n",
    "$$\n",
    "where $\\mathbf{A}$ and $\\mathbf{B}$ are nonsingular.\n",
    "\n",
    "4. Show the identity\n",
    "$$\n",
    "\t\\text{det}(\\mathbf{A} + \\mathbf{U} \\mathbf{V}^T) = \\text{det}(\\mathbf{A}) \\text{det}(\\mathbf{I}_m + \\mathbf{V}^T \\mathbf{A}^{-1} \\mathbf{U}).\n",
    "$$\n",
    "This formula is useful for evaluating the density of a multivariate normal with covariance matrix $\\mathbf{A} + \\mathbf{U} \\mathbf{V}^T$.\n",
    "\n",
    "**Hint**: 1 and 2 are special cases of 3."
   ]
  },
  {
   "cell_type": "markdown",
   "metadata": {},
   "source": [
    "## Sol Q5\n",
    "\n",
    "1. **Sherman-Morrison Formula**: Direct approach.\n",
    "\\begin{align}\n",
    "&\\ \\ \\ \\ \\left(A^{-1}-\\frac{1}{1+u^TA^{-1}u}A^{-1}uu^TA^{-1}\\right)\\left(A+uu^T\\right)\\\\\n",
    "&=I+A^{-1}uu^T-\\frac{1}{1+u^TA^{-1}u}A^{-1}uu^T-\\frac{1}{1+u^TA^{-1}u}A^{-1}u(u^TA^{-1}u)u^T\\\\\n",
    "&=I+A^{-1}uu^T-\\left(\\frac{1+u^TA^{-1}u}{1+u^TA^{-1}u}\\right)A^{-1}uu^T\\\\\n",
    "&=I\n",
    "\\end{align}\n",
    "\n",
    "2. **Woodbury Formula**: the result follows immediately by letting $B=I_m$ in *binomial inversion formula*,.\n",
    "\n",
    "3. **Binomial Inversion Formula**: Algebraic approach.\n",
    "\n",
    "ETS \n",
    "$$\n",
    "A^{-1}=(A+UBV^T)^{-1}+A^{-1}U(B^{-1}+V^TA^{-1}U)^{-1}V^TA\n",
    "$$ \n",
    "\n",
    "First, note that\n",
    "$$\n",
    "    U+UBV^TA^{-1}U=UB(B^{-1}+V^TA^{-1}U)=(A+UBV^T)A^{-1}U\n",
    "$$\n",
    "since $A,B$ is non-singular. Thus,\n",
    "$$\n",
    "    (A+UBV^T)^{-1}UB=A^{-1}U(B^{-1}+V^TA^{-1}U)^{-1}\n",
    "$$\n",
    "Hence,\n",
    "\\begin{align}\n",
    "A^{-1}&=(A+UBV^T)^{-1}(A+UBV^T)A^{-1}\\\\\n",
    "&=(A+UBV^T)^{-1}(I+UBV^TA)\\\\\n",
    "&=(A+UBV^T)^{-1}+\\left[(A+UBV^T)UB\\right]V^{T}A\\\\\n",
    "&=_{\\text{see above}}(A+UBV^T)^{-1}+A^{-1}U(B^{-1}+V^TA^{-1}U)^{-1}V^TA\n",
    "\\end{align}\n",
    "\n",
    "4. **Determinant Formula**\n",
    "\n",
    "WLOG, suppose $A\\in\\mathbb{R}^{n\\times n}$ and $U,V^T\\in\\mathbb{R}^{n\\times m}$. Then is it enough to show\n",
    "\n",
    "\\begin{align}\\tag{*}\n",
    "\\det|I_m+V^TA^{-1}U|=\\det|I_n+A^{-1}UV^{T}|\n",
    "\\end{align}\n",
    "\n",
    "Then \n",
    "$$\n",
    "\\det|A|\\det|I_m+V^TA^{-1}U|=\\det|A\\left(I_n+A^{-1}UV^T\\right)|=\\det|A+UV^T|\n",
    "$$\n",
    "But (*) follows from a lemma in **Biostat 250A**:\n",
    "$$\n",
    "\\det|I_m+AB|=\\det|I_n+BA|\n",
    "$$\n",
    "The proof is shown below.\n",
    "\\begin{align}\n",
    "\\det|I+AB|&=\\det\\left|\\left(\\begin{matrix}I+AB&A\\\\\n",
    "0&I\\end{matrix}\\right)\\right|\\\\\n",
    "&=\\det\\left|\\left(\\begin{matrix}I&A\\\\\n",
    "-B&I\\end{matrix}\\right)\\left(\\begin{matrix}I&0\\\\\n",
    "B&I\\end{matrix}\\right)\\right|\\\\\n",
    "&=\\det\\left|\\left(\\begin{matrix}I&0\\\\\n",
    "B&I\\end{matrix}\\right)\\left(\\begin{matrix}I&A\\\\\n",
    "-B&I\\end{matrix}\\right)\\right|\\\\\n",
    "&=\\det\\left|\\left(\\begin{matrix}I&A\\\\\n",
    "0&I+BA\\end{matrix}\\right)\\right|\\\\\n",
    "&=\\det|I+BA|\n",
    "\\end{align}"
   ]
  },
  {
   "cell_type": "markdown",
   "metadata": {},
   "source": [
    "## Q6\n",
    "\n",
    "Demonstrate the following facts about triangular matrices in Julia (one example for each fact). Mathematically curious ones are also encouraged to prove them. \n",
    "\n",
    "Note a unit triangular matrix is a triangular matrix with all diagonal entries being 1.\n",
    "\n",
    "1. The product of two upper (lower) triangular matrices is upper (lower) triangular.\n",
    "\n",
    "2. The inverse of an upper (lower) triangular matrix is upper (lower) triangular.\n",
    "\n",
    "3. The product of two unit upper (lower) triangular matrices is unit upper (lower) triangular.\n",
    "\n",
    "4. The inverse of a unit upper (lower) triangular matrix is unit upper (lower) triangular.\n",
    "\n",
    "5. An orthogonal upper (lower) triangular matrix is diagonal."
   ]
  }
 ],
 "metadata": {
  "kernelspec": {
   "display_name": "Julia 1.6.0",
   "language": "julia",
   "name": "julia-1.6"
  },
  "language_info": {
   "file_extension": ".jl",
   "mimetype": "application/julia",
   "name": "julia",
   "version": "1.6.0"
  },
  "toc": {
   "colors": {
    "hover_highlight": "#DAA520",
    "running_highlight": "#FF0000",
    "selected_highlight": "#FFD700"
   },
   "moveMenuLeft": true,
   "nav_menu": {
    "height": "153px",
    "width": "252px"
   },
   "navigate_menu": true,
   "number_sections": false,
   "sideBar": true,
   "skip_h1_title": true,
   "threshold": 4,
   "toc_cell": false,
   "toc_section_display": "block",
   "toc_window_display": true,
   "widenNotebook": false
  },
  "toc-autonumbering": false
 },
 "nbformat": 4,
 "nbformat_minor": 4
}
